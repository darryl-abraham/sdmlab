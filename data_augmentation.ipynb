{
 "cells": [
  {
   "cell_type": "code",
   "execution_count": 164,
   "id": "initial_id",
   "metadata": {
    "collapsed": true,
    "ExecuteTime": {
     "end_time": "2024-05-23T02:28:54.428941Z",
     "start_time": "2024-05-23T02:28:54.426254Z"
    }
   },
   "outputs": [],
   "source": [
    "import pandas as pd\n",
    "import random"
   ]
  },
  {
   "cell_type": "code",
   "outputs": [],
   "source": [
    "authors = pd.read_csv('./data_raw/Author.csv')\n",
    "authors_affiliated_company = pd.read_csv('./data_raw/AUTHOR_AFFILIATED_COMPANY.csv')\n",
    "authors_affiliated_university = pd.read_csv('./data_raw/AUTHOR_AFFILIATED_UNIVERSITY.csv')\n",
    "authored = pd.read_csv('./data_raw/AUTHORED.csv')\n",
    "cites = pd.read_csv('./data_raw/CITES.csv')\n",
    "companies = pd.read_csv('./data_raw/Company.csv')\n",
    "conferences = pd.read_csv('./data_raw/Conference.csv')\n",
    "editions = pd.read_csv('./data_raw/EDITION.csv')\n",
    "HAS_VOLUME = pd.read_csv('./data_raw/HAS_VOLUME.csv')\n",
    "IS_ABOUT = pd.read_csv('./data_raw/IS_ABOUT.csv')\n",
    "journals = pd.read_csv('./data_raw/Journal.csv')\n",
    "keywords = pd.read_csv('./data_raw/Keyword.csv')\n",
    "organizes = pd.read_csv('./data_raw/ORGANIZES.csv')\n",
    "papers = pd.read_csv('./data_raw/Paper.csv')\n",
    "PRESENTED_AT = pd.read_csv('./data_raw/PRESENTED_AT.csv')\n",
    "PUBLISHED_IN = pd.read_csv('./data_raw/PUBLISHED_IN.csv')\n",
    "REVIEWED = pd.read_csv('./data_raw/REVIEWED.csv')\n",
    "universities = pd.read_csv('./data_raw/University.csv')\n",
    "volumes = pd.read_csv('./data_raw/Volume.csv')"
   ],
   "metadata": {
    "collapsed": false,
    "ExecuteTime": {
     "end_time": "2024-05-23T02:28:54.704373Z",
     "start_time": "2024-05-23T02:28:54.503479Z"
    }
   },
   "id": "e779387c2e7cb541",
   "execution_count": 165
  },
  {
   "cell_type": "code",
   "outputs": [
    {
     "data": {
      "text/plain": "   Author_ID                name\n0      16588          C. J. Date\n1      16589          E. F. Codd\n2      16590  Patrick A. V. Hall\n3      16591       Markus Tresch\n4      16592        Andreas Rock",
      "text/html": "<div>\n<style scoped>\n    .dataframe tbody tr th:only-of-type {\n        vertical-align: middle;\n    }\n\n    .dataframe tbody tr th {\n        vertical-align: top;\n    }\n\n    .dataframe thead th {\n        text-align: right;\n    }\n</style>\n<table border=\"1\" class=\"dataframe\">\n  <thead>\n    <tr style=\"text-align: right;\">\n      <th></th>\n      <th>Author_ID</th>\n      <th>name</th>\n    </tr>\n  </thead>\n  <tbody>\n    <tr>\n      <th>0</th>\n      <td>16588</td>\n      <td>C. J. Date</td>\n    </tr>\n    <tr>\n      <th>1</th>\n      <td>16589</td>\n      <td>E. F. Codd</td>\n    </tr>\n    <tr>\n      <th>2</th>\n      <td>16590</td>\n      <td>Patrick A. V. Hall</td>\n    </tr>\n    <tr>\n      <th>3</th>\n      <td>16591</td>\n      <td>Markus Tresch</td>\n    </tr>\n    <tr>\n      <th>4</th>\n      <td>16592</td>\n      <td>Andreas Rock</td>\n    </tr>\n  </tbody>\n</table>\n</div>"
     },
     "execution_count": 166,
     "metadata": {},
     "output_type": "execute_result"
    }
   ],
   "source": [
    "authors.head()"
   ],
   "metadata": {
    "collapsed": false,
    "ExecuteTime": {
     "end_time": "2024-05-23T02:28:54.712726Z",
     "start_time": "2024-05-23T02:28:54.705519Z"
    }
   },
   "id": "d939bce6d86943c4",
   "execution_count": 166
  },
  {
   "cell_type": "code",
   "outputs": [
    {
     "data": {
      "text/plain": "   AFFILIATED_ID  Author_ID  Company_ID\n0         526543      21042           1\n1         571756      36255           1\n2         571565      36064           1\n3         571407      35906           1\n4         571398      35897           1",
      "text/html": "<div>\n<style scoped>\n    .dataframe tbody tr th:only-of-type {\n        vertical-align: middle;\n    }\n\n    .dataframe tbody tr th {\n        vertical-align: top;\n    }\n\n    .dataframe thead th {\n        text-align: right;\n    }\n</style>\n<table border=\"1\" class=\"dataframe\">\n  <thead>\n    <tr style=\"text-align: right;\">\n      <th></th>\n      <th>AFFILIATED_ID</th>\n      <th>Author_ID</th>\n      <th>Company_ID</th>\n    </tr>\n  </thead>\n  <tbody>\n    <tr>\n      <th>0</th>\n      <td>526543</td>\n      <td>21042</td>\n      <td>1</td>\n    </tr>\n    <tr>\n      <th>1</th>\n      <td>571756</td>\n      <td>36255</td>\n      <td>1</td>\n    </tr>\n    <tr>\n      <th>2</th>\n      <td>571565</td>\n      <td>36064</td>\n      <td>1</td>\n    </tr>\n    <tr>\n      <th>3</th>\n      <td>571407</td>\n      <td>35906</td>\n      <td>1</td>\n    </tr>\n    <tr>\n      <th>4</th>\n      <td>571398</td>\n      <td>35897</td>\n      <td>1</td>\n    </tr>\n  </tbody>\n</table>\n</div>"
     },
     "execution_count": 167,
     "metadata": {},
     "output_type": "execute_result"
    }
   ],
   "source": [
    "authors_affiliated_company.head()"
   ],
   "metadata": {
    "collapsed": false,
    "ExecuteTime": {
     "end_time": "2024-05-23T02:28:54.721824Z",
     "start_time": "2024-05-23T02:28:54.713854Z"
    }
   },
   "id": "ffe899b7feac9fcf",
   "execution_count": 167
  },
  {
   "cell_type": "code",
   "outputs": [
    {
     "data": {
      "text/plain": "   AFFILIATED_ID  Author_ID  University_ID\n0         527657      22156              0\n1         571608      36107              0\n2         571333      35832              0\n3         571140      35639              0\n4         571080      35579              0",
      "text/html": "<div>\n<style scoped>\n    .dataframe tbody tr th:only-of-type {\n        vertical-align: middle;\n    }\n\n    .dataframe tbody tr th {\n        vertical-align: top;\n    }\n\n    .dataframe thead th {\n        text-align: right;\n    }\n</style>\n<table border=\"1\" class=\"dataframe\">\n  <thead>\n    <tr style=\"text-align: right;\">\n      <th></th>\n      <th>AFFILIATED_ID</th>\n      <th>Author_ID</th>\n      <th>University_ID</th>\n    </tr>\n  </thead>\n  <tbody>\n    <tr>\n      <th>0</th>\n      <td>527657</td>\n      <td>22156</td>\n      <td>0</td>\n    </tr>\n    <tr>\n      <th>1</th>\n      <td>571608</td>\n      <td>36107</td>\n      <td>0</td>\n    </tr>\n    <tr>\n      <th>2</th>\n      <td>571333</td>\n      <td>35832</td>\n      <td>0</td>\n    </tr>\n    <tr>\n      <th>3</th>\n      <td>571140</td>\n      <td>35639</td>\n      <td>0</td>\n    </tr>\n    <tr>\n      <th>4</th>\n      <td>571080</td>\n      <td>35579</td>\n      <td>0</td>\n    </tr>\n  </tbody>\n</table>\n</div>"
     },
     "execution_count": 168,
     "metadata": {},
     "output_type": "execute_result"
    }
   ],
   "source": [
    "authors_affiliated_university.head()"
   ],
   "metadata": {
    "collapsed": false,
    "ExecuteTime": {
     "end_time": "2024-05-23T02:28:54.730459Z",
     "start_time": "2024-05-23T02:28:54.723032Z"
    }
   },
   "id": "6507a8f6c661017d",
   "execution_count": 168
  },
  {
   "cell_type": "code",
   "outputs": [
    {
     "data": {
      "text/plain": "   AUTHORED_ID  Author_ID  Paper_ID\n0         5055      16588      6514\n1         5056      16589      6514\n2         5057      16590      6515\n3         5058      16589      6516\n4         5059      16591      6517",
      "text/html": "<div>\n<style scoped>\n    .dataframe tbody tr th:only-of-type {\n        vertical-align: middle;\n    }\n\n    .dataframe tbody tr th {\n        vertical-align: top;\n    }\n\n    .dataframe thead th {\n        text-align: right;\n    }\n</style>\n<table border=\"1\" class=\"dataframe\">\n  <thead>\n    <tr style=\"text-align: right;\">\n      <th></th>\n      <th>AUTHORED_ID</th>\n      <th>Author_ID</th>\n      <th>Paper_ID</th>\n    </tr>\n  </thead>\n  <tbody>\n    <tr>\n      <th>0</th>\n      <td>5055</td>\n      <td>16588</td>\n      <td>6514</td>\n    </tr>\n    <tr>\n      <th>1</th>\n      <td>5056</td>\n      <td>16589</td>\n      <td>6514</td>\n    </tr>\n    <tr>\n      <th>2</th>\n      <td>5057</td>\n      <td>16590</td>\n      <td>6515</td>\n    </tr>\n    <tr>\n      <th>3</th>\n      <td>5058</td>\n      <td>16589</td>\n      <td>6516</td>\n    </tr>\n    <tr>\n      <th>4</th>\n      <td>5059</td>\n      <td>16591</td>\n      <td>6517</td>\n    </tr>\n  </tbody>\n</table>\n</div>"
     },
     "execution_count": 169,
     "metadata": {},
     "output_type": "execute_result"
    }
   ],
   "source": [
    "authored.head()"
   ],
   "metadata": {
    "collapsed": false,
    "ExecuteTime": {
     "end_time": "2024-05-23T02:28:54.739137Z",
     "start_time": "2024-05-23T02:28:54.731590Z"
    }
   },
   "id": "3b62804865a92f56",
   "execution_count": 169
  },
  {
   "cell_type": "code",
   "outputs": [
    {
     "data": {
      "text/plain": "   CITES_ID  Citing_Paper_ID  Cited_Paper_ID\n0     38408             8753            6514\n1     38409            11332            6514\n2     38410             7342            6515\n3     38411             6956            6515\n4     38412             9095            6515",
      "text/html": "<div>\n<style scoped>\n    .dataframe tbody tr th:only-of-type {\n        vertical-align: middle;\n    }\n\n    .dataframe tbody tr th {\n        vertical-align: top;\n    }\n\n    .dataframe thead th {\n        text-align: right;\n    }\n</style>\n<table border=\"1\" class=\"dataframe\">\n  <thead>\n    <tr style=\"text-align: right;\">\n      <th></th>\n      <th>CITES_ID</th>\n      <th>Citing_Paper_ID</th>\n      <th>Cited_Paper_ID</th>\n    </tr>\n  </thead>\n  <tbody>\n    <tr>\n      <th>0</th>\n      <td>38408</td>\n      <td>8753</td>\n      <td>6514</td>\n    </tr>\n    <tr>\n      <th>1</th>\n      <td>38409</td>\n      <td>11332</td>\n      <td>6514</td>\n    </tr>\n    <tr>\n      <th>2</th>\n      <td>38410</td>\n      <td>7342</td>\n      <td>6515</td>\n    </tr>\n    <tr>\n      <th>3</th>\n      <td>38411</td>\n      <td>6956</td>\n      <td>6515</td>\n    </tr>\n    <tr>\n      <th>4</th>\n      <td>38412</td>\n      <td>9095</td>\n      <td>6515</td>\n    </tr>\n  </tbody>\n</table>\n</div>"
     },
     "execution_count": 170,
     "metadata": {},
     "output_type": "execute_result"
    }
   ],
   "source": [
    "cites.head()"
   ],
   "metadata": {
    "collapsed": false,
    "ExecuteTime": {
     "end_time": "2024-05-23T02:28:54.746791Z",
     "start_time": "2024-05-23T02:28:54.740281Z"
    }
   },
   "id": "9bbb5d9e380d517c",
   "execution_count": 170
  },
  {
   "cell_type": "code",
   "outputs": [
    {
     "data": {
      "text/plain": "   Company_ID                         name\n0           1                  Rush-Campos\n1           2  Tucker, Decker and Erickson\n2           3                 Thompson Ltd\n3           4               Lewis and Sons\n4           5    Higgins, Young and Bowers",
      "text/html": "<div>\n<style scoped>\n    .dataframe tbody tr th:only-of-type {\n        vertical-align: middle;\n    }\n\n    .dataframe tbody tr th {\n        vertical-align: top;\n    }\n\n    .dataframe thead th {\n        text-align: right;\n    }\n</style>\n<table border=\"1\" class=\"dataframe\">\n  <thead>\n    <tr style=\"text-align: right;\">\n      <th></th>\n      <th>Company_ID</th>\n      <th>name</th>\n    </tr>\n  </thead>\n  <tbody>\n    <tr>\n      <th>0</th>\n      <td>1</td>\n      <td>Rush-Campos</td>\n    </tr>\n    <tr>\n      <th>1</th>\n      <td>2</td>\n      <td>Tucker, Decker and Erickson</td>\n    </tr>\n    <tr>\n      <th>2</th>\n      <td>3</td>\n      <td>Thompson Ltd</td>\n    </tr>\n    <tr>\n      <th>3</th>\n      <td>4</td>\n      <td>Lewis and Sons</td>\n    </tr>\n    <tr>\n      <th>4</th>\n      <td>5</td>\n      <td>Higgins, Young and Bowers</td>\n    </tr>\n  </tbody>\n</table>\n</div>"
     },
     "execution_count": 171,
     "metadata": {},
     "output_type": "execute_result"
    }
   ],
   "source": [
    "companies.head()"
   ],
   "metadata": {
    "collapsed": false,
    "ExecuteTime": {
     "end_time": "2024-05-23T02:28:54.756387Z",
     "start_time": "2024-05-23T02:28:54.747870Z"
    }
   },
   "id": "96b6975111608dec",
   "execution_count": 171
  },
  {
   "cell_type": "code",
   "outputs": [
    {
     "data": {
      "text/plain": "   Conference_ID            name\n0          36405             ant\n1          36406            cser\n2          36407            iccS\n3          36408         vsgames\n4          36409  complexsystems",
      "text/html": "<div>\n<style scoped>\n    .dataframe tbody tr th:only-of-type {\n        vertical-align: middle;\n    }\n\n    .dataframe tbody tr th {\n        vertical-align: top;\n    }\n\n    .dataframe thead th {\n        text-align: right;\n    }\n</style>\n<table border=\"1\" class=\"dataframe\">\n  <thead>\n    <tr style=\"text-align: right;\">\n      <th></th>\n      <th>Conference_ID</th>\n      <th>name</th>\n    </tr>\n  </thead>\n  <tbody>\n    <tr>\n      <th>0</th>\n      <td>36405</td>\n      <td>ant</td>\n    </tr>\n    <tr>\n      <th>1</th>\n      <td>36406</td>\n      <td>cser</td>\n    </tr>\n    <tr>\n      <th>2</th>\n      <td>36407</td>\n      <td>iccS</td>\n    </tr>\n    <tr>\n      <th>3</th>\n      <td>36408</td>\n      <td>vsgames</td>\n    </tr>\n    <tr>\n      <th>4</th>\n      <td>36409</td>\n      <td>complexsystems</td>\n    </tr>\n  </tbody>\n</table>\n</div>"
     },
     "execution_count": 172,
     "metadata": {},
     "output_type": "execute_result"
    }
   ],
   "source": [
    "conferences.head()"
   ],
   "metadata": {
    "collapsed": false,
    "ExecuteTime": {
     "end_time": "2024-05-23T02:28:54.764092Z",
     "start_time": "2024-05-23T02:28:54.757449Z"
    }
   },
   "id": "21238cf7a47cfc3a",
   "execution_count": 172
  },
  {
   "cell_type": "code",
   "outputs": [
    {
     "data": {
      "text/plain": "   Edition_ID  year conference         city\n0       36394  2011        ant    Bangalore\n1       36395  2012       cser      Jakarta\n2       36396  2011       iccS        Wuhan\n3       36397  2012    vsgames  Los Angeles\n4       36398  2012        ant     Shanghai",
      "text/html": "<div>\n<style scoped>\n    .dataframe tbody tr th:only-of-type {\n        vertical-align: middle;\n    }\n\n    .dataframe tbody tr th {\n        vertical-align: top;\n    }\n\n    .dataframe thead th {\n        text-align: right;\n    }\n</style>\n<table border=\"1\" class=\"dataframe\">\n  <thead>\n    <tr style=\"text-align: right;\">\n      <th></th>\n      <th>Edition_ID</th>\n      <th>year</th>\n      <th>conference</th>\n      <th>city</th>\n    </tr>\n  </thead>\n  <tbody>\n    <tr>\n      <th>0</th>\n      <td>36394</td>\n      <td>2011</td>\n      <td>ant</td>\n      <td>Bangalore</td>\n    </tr>\n    <tr>\n      <th>1</th>\n      <td>36395</td>\n      <td>2012</td>\n      <td>cser</td>\n      <td>Jakarta</td>\n    </tr>\n    <tr>\n      <th>2</th>\n      <td>36396</td>\n      <td>2011</td>\n      <td>iccS</td>\n      <td>Wuhan</td>\n    </tr>\n    <tr>\n      <th>3</th>\n      <td>36397</td>\n      <td>2012</td>\n      <td>vsgames</td>\n      <td>Los Angeles</td>\n    </tr>\n    <tr>\n      <th>4</th>\n      <td>36398</td>\n      <td>2012</td>\n      <td>ant</td>\n      <td>Shanghai</td>\n    </tr>\n  </tbody>\n</table>\n</div>"
     },
     "execution_count": 173,
     "metadata": {},
     "output_type": "execute_result"
    }
   ],
   "source": [
    "editions.head()"
   ],
   "metadata": {
    "collapsed": false,
    "ExecuteTime": {
     "end_time": "2024-05-23T02:28:54.772887Z",
     "start_time": "2024-05-23T02:28:54.765247Z"
    }
   },
   "id": "b93eb957aabce0fe",
   "execution_count": 173
  },
  {
   "cell_type": "code",
   "outputs": [
    {
     "data": {
      "text/plain": "   HAS_VOLUME_ID  Journal_ID  Volume_ID\n0              0       11514      11519\n1              1       11514      11520\n2              2       11514      11521\n3              3       11514      11522\n4              4       11514      11523",
      "text/html": "<div>\n<style scoped>\n    .dataframe tbody tr th:only-of-type {\n        vertical-align: middle;\n    }\n\n    .dataframe tbody tr th {\n        vertical-align: top;\n    }\n\n    .dataframe thead th {\n        text-align: right;\n    }\n</style>\n<table border=\"1\" class=\"dataframe\">\n  <thead>\n    <tr style=\"text-align: right;\">\n      <th></th>\n      <th>HAS_VOLUME_ID</th>\n      <th>Journal_ID</th>\n      <th>Volume_ID</th>\n    </tr>\n  </thead>\n  <tbody>\n    <tr>\n      <th>0</th>\n      <td>0</td>\n      <td>11514</td>\n      <td>11519</td>\n    </tr>\n    <tr>\n      <th>1</th>\n      <td>1</td>\n      <td>11514</td>\n      <td>11520</td>\n    </tr>\n    <tr>\n      <th>2</th>\n      <td>2</td>\n      <td>11514</td>\n      <td>11521</td>\n    </tr>\n    <tr>\n      <th>3</th>\n      <td>3</td>\n      <td>11514</td>\n      <td>11522</td>\n    </tr>\n    <tr>\n      <th>4</th>\n      <td>4</td>\n      <td>11514</td>\n      <td>11523</td>\n    </tr>\n  </tbody>\n</table>\n</div>"
     },
     "execution_count": 174,
     "metadata": {},
     "output_type": "execute_result"
    }
   ],
   "source": [
    "HAS_VOLUME.head()"
   ],
   "metadata": {
    "collapsed": false,
    "ExecuteTime": {
     "end_time": "2024-05-23T02:28:54.781244Z",
     "start_time": "2024-05-23T02:28:54.775069Z"
    }
   },
   "id": "6a67779b22d1fb80",
   "execution_count": 174
  },
  {
   "cell_type": "code",
   "outputs": [
    {
     "data": {
      "text/plain": "   IS_ABOUT_ID  Paper_ID  Keyword_ID\n0       492565      6514       36588\n1       492566      6514       36589\n2       492567      6514       36590\n3       492568      6515       36591\n4       492569      6515       36592",
      "text/html": "<div>\n<style scoped>\n    .dataframe tbody tr th:only-of-type {\n        vertical-align: middle;\n    }\n\n    .dataframe tbody tr th {\n        vertical-align: top;\n    }\n\n    .dataframe thead th {\n        text-align: right;\n    }\n</style>\n<table border=\"1\" class=\"dataframe\">\n  <thead>\n    <tr style=\"text-align: right;\">\n      <th></th>\n      <th>IS_ABOUT_ID</th>\n      <th>Paper_ID</th>\n      <th>Keyword_ID</th>\n    </tr>\n  </thead>\n  <tbody>\n    <tr>\n      <th>0</th>\n      <td>492565</td>\n      <td>6514</td>\n      <td>36588</td>\n    </tr>\n    <tr>\n      <th>1</th>\n      <td>492566</td>\n      <td>6514</td>\n      <td>36589</td>\n    </tr>\n    <tr>\n      <th>2</th>\n      <td>492567</td>\n      <td>6514</td>\n      <td>36590</td>\n    </tr>\n    <tr>\n      <th>3</th>\n      <td>492568</td>\n      <td>6515</td>\n      <td>36591</td>\n    </tr>\n    <tr>\n      <th>4</th>\n      <td>492569</td>\n      <td>6515</td>\n      <td>36592</td>\n    </tr>\n  </tbody>\n</table>\n</div>"
     },
     "execution_count": 175,
     "metadata": {},
     "output_type": "execute_result"
    }
   ],
   "source": [
    "IS_ABOUT.head()"
   ],
   "metadata": {
    "collapsed": false,
    "ExecuteTime": {
     "end_time": "2024-05-23T02:28:54.788144Z",
     "start_time": "2024-05-23T02:28:54.782331Z"
    }
   },
   "id": "ef8dcdd962ee6905",
   "execution_count": 175
  },
  {
   "cell_type": "code",
   "outputs": [
    {
     "data": {
      "text/plain": "   Journal_ID                                               name\n0       11514          IBM Research Report, San Jose, California\n1       11515                Hydrology and Earth System Sciences\n2       11516  Foundations and Trends in Communications and I...\n3       11517                                     ACM Crossroads\n4       11518            IEEE T. Instrumentation and Measurement",
      "text/html": "<div>\n<style scoped>\n    .dataframe tbody tr th:only-of-type {\n        vertical-align: middle;\n    }\n\n    .dataframe tbody tr th {\n        vertical-align: top;\n    }\n\n    .dataframe thead th {\n        text-align: right;\n    }\n</style>\n<table border=\"1\" class=\"dataframe\">\n  <thead>\n    <tr style=\"text-align: right;\">\n      <th></th>\n      <th>Journal_ID</th>\n      <th>name</th>\n    </tr>\n  </thead>\n  <tbody>\n    <tr>\n      <th>0</th>\n      <td>11514</td>\n      <td>IBM Research Report, San Jose, California</td>\n    </tr>\n    <tr>\n      <th>1</th>\n      <td>11515</td>\n      <td>Hydrology and Earth System Sciences</td>\n    </tr>\n    <tr>\n      <th>2</th>\n      <td>11516</td>\n      <td>Foundations and Trends in Communications and I...</td>\n    </tr>\n    <tr>\n      <th>3</th>\n      <td>11517</td>\n      <td>ACM Crossroads</td>\n    </tr>\n    <tr>\n      <th>4</th>\n      <td>11518</td>\n      <td>IEEE T. Instrumentation and Measurement</td>\n    </tr>\n  </tbody>\n</table>\n</div>"
     },
     "execution_count": 176,
     "metadata": {},
     "output_type": "execute_result"
    }
   ],
   "source": [
    "journals.head()"
   ],
   "metadata": {
    "collapsed": false,
    "ExecuteTime": {
     "end_time": "2024-05-23T02:28:54.794620Z",
     "start_time": "2024-05-23T02:28:54.789191Z"
    }
   },
   "id": "fb2fcaca4185c195",
   "execution_count": 176
  },
  {
   "cell_type": "code",
   "outputs": [
    {
     "data": {
      "text/plain": "   Keyword_ID            key              topic\n0       36588     Approaches      UrbanPlanning\n1       36589        Support  BiomedicalImaging\n2       36590     Relational         Psychology\n3       36591        Systems         3DPrinting\n4       36592  Subexpression   Cryptocurrencies",
      "text/html": "<div>\n<style scoped>\n    .dataframe tbody tr th:only-of-type {\n        vertical-align: middle;\n    }\n\n    .dataframe tbody tr th {\n        vertical-align: top;\n    }\n\n    .dataframe thead th {\n        text-align: right;\n    }\n</style>\n<table border=\"1\" class=\"dataframe\">\n  <thead>\n    <tr style=\"text-align: right;\">\n      <th></th>\n      <th>Keyword_ID</th>\n      <th>key</th>\n      <th>topic</th>\n    </tr>\n  </thead>\n  <tbody>\n    <tr>\n      <th>0</th>\n      <td>36588</td>\n      <td>Approaches</td>\n      <td>UrbanPlanning</td>\n    </tr>\n    <tr>\n      <th>1</th>\n      <td>36589</td>\n      <td>Support</td>\n      <td>BiomedicalImaging</td>\n    </tr>\n    <tr>\n      <th>2</th>\n      <td>36590</td>\n      <td>Relational</td>\n      <td>Psychology</td>\n    </tr>\n    <tr>\n      <th>3</th>\n      <td>36591</td>\n      <td>Systems</td>\n      <td>3DPrinting</td>\n    </tr>\n    <tr>\n      <th>4</th>\n      <td>36592</td>\n      <td>Subexpression</td>\n      <td>Cryptocurrencies</td>\n    </tr>\n  </tbody>\n</table>\n</div>"
     },
     "execution_count": 177,
     "metadata": {},
     "output_type": "execute_result"
    }
   ],
   "source": [
    "keywords.head()"
   ],
   "metadata": {
    "collapsed": false,
    "ExecuteTime": {
     "end_time": "2024-05-23T02:28:54.802018Z",
     "start_time": "2024-05-23T02:28:54.795665Z"
    }
   },
   "id": "49feda227654f0d1",
   "execution_count": 177
  },
  {
   "cell_type": "code",
   "outputs": [
    {
     "data": {
      "text/plain": "   ORGANIZES_ID  Conference_ID  Edition_ID\n0         35997          36405       36394\n1         35998          36406       36395\n2         35999          36407       36396\n3         36000          36408       36397\n4         36001          36405       36398",
      "text/html": "<div>\n<style scoped>\n    .dataframe tbody tr th:only-of-type {\n        vertical-align: middle;\n    }\n\n    .dataframe tbody tr th {\n        vertical-align: top;\n    }\n\n    .dataframe thead th {\n        text-align: right;\n    }\n</style>\n<table border=\"1\" class=\"dataframe\">\n  <thead>\n    <tr style=\"text-align: right;\">\n      <th></th>\n      <th>ORGANIZES_ID</th>\n      <th>Conference_ID</th>\n      <th>Edition_ID</th>\n    </tr>\n  </thead>\n  <tbody>\n    <tr>\n      <th>0</th>\n      <td>35997</td>\n      <td>36405</td>\n      <td>36394</td>\n    </tr>\n    <tr>\n      <th>1</th>\n      <td>35998</td>\n      <td>36406</td>\n      <td>36395</td>\n    </tr>\n    <tr>\n      <th>2</th>\n      <td>35999</td>\n      <td>36407</td>\n      <td>36396</td>\n    </tr>\n    <tr>\n      <th>3</th>\n      <td>36000</td>\n      <td>36408</td>\n      <td>36397</td>\n    </tr>\n    <tr>\n      <th>4</th>\n      <td>36001</td>\n      <td>36405</td>\n      <td>36398</td>\n    </tr>\n  </tbody>\n</table>\n</div>"
     },
     "execution_count": 178,
     "metadata": {},
     "output_type": "execute_result"
    }
   ],
   "source": [
    "organizes.head()"
   ],
   "metadata": {
    "collapsed": false,
    "ExecuteTime": {
     "end_time": "2024-05-23T02:28:54.810016Z",
     "start_time": "2024-05-23T02:28:54.803023Z"
    }
   },
   "id": "bc9c40f40e2b52d1",
   "execution_count": 178
  },
  {
   "cell_type": "code",
   "outputs": [
    {
     "data": {
      "text/plain": "   Paper_ID                                              title  \\\n0      6514  Interactive Support for Non-Programmers: The R...   \n1      6515  Common Subexpression Identification in General...   \n2      6516  The Capabilities of Relational Database Manage...   \n3      6517  Principles of Distributed Object Database Lang...   \n4      6518  Relational Completeness of Data Base Sublangua...   \n\n                  author  id corresponding_author                  abstract  \n0  C. J. Date|E. F. Codd  r2           C. J. Date   The paper highlights...  \n1     Patrick A. V. Hall   3   Patrick A. V. Hall    This paper is about...  \n2             E. F. Codd   4           E. F. Codd   The research reveals...  \n3          Markus Tresch   5        Markus Tresch    This paper is about...  \n4             E. F. Codd   6           E. F. Codd  The study illustrates...  ",
      "text/html": "<div>\n<style scoped>\n    .dataframe tbody tr th:only-of-type {\n        vertical-align: middle;\n    }\n\n    .dataframe tbody tr th {\n        vertical-align: top;\n    }\n\n    .dataframe thead th {\n        text-align: right;\n    }\n</style>\n<table border=\"1\" class=\"dataframe\">\n  <thead>\n    <tr style=\"text-align: right;\">\n      <th></th>\n      <th>Paper_ID</th>\n      <th>title</th>\n      <th>author</th>\n      <th>id</th>\n      <th>corresponding_author</th>\n      <th>abstract</th>\n    </tr>\n  </thead>\n  <tbody>\n    <tr>\n      <th>0</th>\n      <td>6514</td>\n      <td>Interactive Support for Non-Programmers: The R...</td>\n      <td>C. J. Date|E. F. Codd</td>\n      <td>r2</td>\n      <td>C. J. Date</td>\n      <td>The paper highlights...</td>\n    </tr>\n    <tr>\n      <th>1</th>\n      <td>6515</td>\n      <td>Common Subexpression Identification in General...</td>\n      <td>Patrick A. V. Hall</td>\n      <td>3</td>\n      <td>Patrick A. V. Hall</td>\n      <td>This paper is about...</td>\n    </tr>\n    <tr>\n      <th>2</th>\n      <td>6516</td>\n      <td>The Capabilities of Relational Database Manage...</td>\n      <td>E. F. Codd</td>\n      <td>4</td>\n      <td>E. F. Codd</td>\n      <td>The research reveals...</td>\n    </tr>\n    <tr>\n      <th>3</th>\n      <td>6517</td>\n      <td>Principles of Distributed Object Database Lang...</td>\n      <td>Markus Tresch</td>\n      <td>5</td>\n      <td>Markus Tresch</td>\n      <td>This paper is about...</td>\n    </tr>\n    <tr>\n      <th>4</th>\n      <td>6518</td>\n      <td>Relational Completeness of Data Base Sublangua...</td>\n      <td>E. F. Codd</td>\n      <td>6</td>\n      <td>E. F. Codd</td>\n      <td>The study illustrates...</td>\n    </tr>\n  </tbody>\n</table>\n</div>"
     },
     "execution_count": 179,
     "metadata": {},
     "output_type": "execute_result"
    }
   ],
   "source": [
    "papers.head()"
   ],
   "metadata": {
    "collapsed": false,
    "ExecuteTime": {
     "end_time": "2024-05-23T02:28:54.817626Z",
     "start_time": "2024-05-23T02:28:54.811111Z"
    }
   },
   "id": "852f3753392f7173",
   "execution_count": 179
  },
  {
   "cell_type": "code",
   "outputs": [
    {
     "data": {
      "text/plain": "   PRESENTED_AT_ID  Paper_ID  Edition_ID\n0            34973     11670       36394\n1            34974     11671       36395\n2            34975     11672       36396\n3            34976     11673       36397\n4            34977     11674       36398",
      "text/html": "<div>\n<style scoped>\n    .dataframe tbody tr th:only-of-type {\n        vertical-align: middle;\n    }\n\n    .dataframe tbody tr th {\n        vertical-align: top;\n    }\n\n    .dataframe thead th {\n        text-align: right;\n    }\n</style>\n<table border=\"1\" class=\"dataframe\">\n  <thead>\n    <tr style=\"text-align: right;\">\n      <th></th>\n      <th>PRESENTED_AT_ID</th>\n      <th>Paper_ID</th>\n      <th>Edition_ID</th>\n    </tr>\n  </thead>\n  <tbody>\n    <tr>\n      <th>0</th>\n      <td>34973</td>\n      <td>11670</td>\n      <td>36394</td>\n    </tr>\n    <tr>\n      <th>1</th>\n      <td>34974</td>\n      <td>11671</td>\n      <td>36395</td>\n    </tr>\n    <tr>\n      <th>2</th>\n      <td>34975</td>\n      <td>11672</td>\n      <td>36396</td>\n    </tr>\n    <tr>\n      <th>3</th>\n      <td>34976</td>\n      <td>11673</td>\n      <td>36397</td>\n    </tr>\n    <tr>\n      <th>4</th>\n      <td>34977</td>\n      <td>11674</td>\n      <td>36398</td>\n    </tr>\n  </tbody>\n</table>\n</div>"
     },
     "execution_count": 180,
     "metadata": {},
     "output_type": "execute_result"
    }
   ],
   "source": [
    "PRESENTED_AT.head()"
   ],
   "metadata": {
    "collapsed": false,
    "ExecuteTime": {
     "end_time": "2024-05-23T02:28:54.824945Z",
     "start_time": "2024-05-23T02:28:54.818808Z"
    }
   },
   "id": "37825b84101e5326",
   "execution_count": 180
  },
  {
   "cell_type": "code",
   "outputs": [
    {
     "data": {
      "text/plain": "   PUBLISHED_IN_ID  Paper_ID  Volume_ID\n0               69      6514      11519\n1               70      6516      11520\n2               71      6519      11521\n3               72      6520      11522\n4               73      6521      11523",
      "text/html": "<div>\n<style scoped>\n    .dataframe tbody tr th:only-of-type {\n        vertical-align: middle;\n    }\n\n    .dataframe tbody tr th {\n        vertical-align: top;\n    }\n\n    .dataframe thead th {\n        text-align: right;\n    }\n</style>\n<table border=\"1\" class=\"dataframe\">\n  <thead>\n    <tr style=\"text-align: right;\">\n      <th></th>\n      <th>PUBLISHED_IN_ID</th>\n      <th>Paper_ID</th>\n      <th>Volume_ID</th>\n    </tr>\n  </thead>\n  <tbody>\n    <tr>\n      <th>0</th>\n      <td>69</td>\n      <td>6514</td>\n      <td>11519</td>\n    </tr>\n    <tr>\n      <th>1</th>\n      <td>70</td>\n      <td>6516</td>\n      <td>11520</td>\n    </tr>\n    <tr>\n      <th>2</th>\n      <td>71</td>\n      <td>6519</td>\n      <td>11521</td>\n    </tr>\n    <tr>\n      <th>3</th>\n      <td>72</td>\n      <td>6520</td>\n      <td>11522</td>\n    </tr>\n    <tr>\n      <th>4</th>\n      <td>73</td>\n      <td>6521</td>\n      <td>11523</td>\n    </tr>\n  </tbody>\n</table>\n</div>"
     },
     "execution_count": 181,
     "metadata": {},
     "output_type": "execute_result"
    }
   ],
   "source": [
    "PUBLISHED_IN.head()"
   ],
   "metadata": {
    "collapsed": false,
    "ExecuteTime": {
     "end_time": "2024-05-23T02:28:54.830265Z",
     "start_time": "2024-05-23T02:28:54.824945Z"
    }
   },
   "id": "8be40ac17f2ae3ae",
   "execution_count": 181
  },
  {
   "cell_type": "code",
   "outputs": [
    {
     "data": {
      "text/plain": "   REVIEWED_ID  Author_ID  Paper_ID                     review_text\n0       527824      18628      6514   major limitations are ignored\n1       527825      26214      6514           inadequate references\n2       527826      17420      6514  fails to address key questions\n3       527827      30713      6515           insightful discussion\n4       527828      18460      6515                       impactful",
      "text/html": "<div>\n<style scoped>\n    .dataframe tbody tr th:only-of-type {\n        vertical-align: middle;\n    }\n\n    .dataframe tbody tr th {\n        vertical-align: top;\n    }\n\n    .dataframe thead th {\n        text-align: right;\n    }\n</style>\n<table border=\"1\" class=\"dataframe\">\n  <thead>\n    <tr style=\"text-align: right;\">\n      <th></th>\n      <th>REVIEWED_ID</th>\n      <th>Author_ID</th>\n      <th>Paper_ID</th>\n      <th>review_text</th>\n    </tr>\n  </thead>\n  <tbody>\n    <tr>\n      <th>0</th>\n      <td>527824</td>\n      <td>18628</td>\n      <td>6514</td>\n      <td>major limitations are ignored</td>\n    </tr>\n    <tr>\n      <th>1</th>\n      <td>527825</td>\n      <td>26214</td>\n      <td>6514</td>\n      <td>inadequate references</td>\n    </tr>\n    <tr>\n      <th>2</th>\n      <td>527826</td>\n      <td>17420</td>\n      <td>6514</td>\n      <td>fails to address key questions</td>\n    </tr>\n    <tr>\n      <th>3</th>\n      <td>527827</td>\n      <td>30713</td>\n      <td>6515</td>\n      <td>insightful discussion</td>\n    </tr>\n    <tr>\n      <th>4</th>\n      <td>527828</td>\n      <td>18460</td>\n      <td>6515</td>\n      <td>impactful</td>\n    </tr>\n  </tbody>\n</table>\n</div>"
     },
     "execution_count": 182,
     "metadata": {},
     "output_type": "execute_result"
    }
   ],
   "source": [
    "REVIEWED.head()"
   ],
   "metadata": {
    "collapsed": false,
    "ExecuteTime": {
     "end_time": "2024-05-23T02:28:54.838567Z",
     "start_time": "2024-05-23T02:28:54.830265Z"
    }
   },
   "id": "c3812459a53ca04b",
   "execution_count": 182
  },
  {
   "cell_type": "code",
   "outputs": [
    {
     "data": {
      "text/plain": "   University_ID                            name\n0              0         University of East John\n1              6         University of Shawnport\n2              7    University of New Brookestad\n3              9  University of West Markborough\n4             10         University of East Adam",
      "text/html": "<div>\n<style scoped>\n    .dataframe tbody tr th:only-of-type {\n        vertical-align: middle;\n    }\n\n    .dataframe tbody tr th {\n        vertical-align: top;\n    }\n\n    .dataframe thead th {\n        text-align: right;\n    }\n</style>\n<table border=\"1\" class=\"dataframe\">\n  <thead>\n    <tr style=\"text-align: right;\">\n      <th></th>\n      <th>University_ID</th>\n      <th>name</th>\n    </tr>\n  </thead>\n  <tbody>\n    <tr>\n      <th>0</th>\n      <td>0</td>\n      <td>University of East John</td>\n    </tr>\n    <tr>\n      <th>1</th>\n      <td>6</td>\n      <td>University of Shawnport</td>\n    </tr>\n    <tr>\n      <th>2</th>\n      <td>7</td>\n      <td>University of New Brookestad</td>\n    </tr>\n    <tr>\n      <th>3</th>\n      <td>9</td>\n      <td>University of West Markborough</td>\n    </tr>\n    <tr>\n      <th>4</th>\n      <td>10</td>\n      <td>University of East Adam</td>\n    </tr>\n  </tbody>\n</table>\n</div>"
     },
     "execution_count": 183,
     "metadata": {},
     "output_type": "execute_result"
    }
   ],
   "source": [
    "universities.head()"
   ],
   "metadata": {
    "collapsed": false,
    "ExecuteTime": {
     "end_time": "2024-05-23T02:28:54.845891Z",
     "start_time": "2024-05-23T02:28:54.838567Z"
    }
   },
   "id": "b28d16db950b1c62",
   "execution_count": 183
  },
  {
   "cell_type": "code",
   "outputs": [
    {
     "data": {
      "text/plain": "   Volume_ID    name    year                                journalName\n0      11519  RJ1400  1974.0  IBM Research Report, San Jose, California\n1      11520  RJ3132  1981.0  IBM Research Report, San Jose, California\n2      11521   RJ909  1971.0  IBM Research Report, San Jose, California\n3      11522   RJ893  1971.0  IBM Research Report, San Jose, California\n4      11523   RJ599  1969.0  IBM Research Report, San Jose, California",
      "text/html": "<div>\n<style scoped>\n    .dataframe tbody tr th:only-of-type {\n        vertical-align: middle;\n    }\n\n    .dataframe tbody tr th {\n        vertical-align: top;\n    }\n\n    .dataframe thead th {\n        text-align: right;\n    }\n</style>\n<table border=\"1\" class=\"dataframe\">\n  <thead>\n    <tr style=\"text-align: right;\">\n      <th></th>\n      <th>Volume_ID</th>\n      <th>name</th>\n      <th>year</th>\n      <th>journalName</th>\n    </tr>\n  </thead>\n  <tbody>\n    <tr>\n      <th>0</th>\n      <td>11519</td>\n      <td>RJ1400</td>\n      <td>1974.0</td>\n      <td>IBM Research Report, San Jose, California</td>\n    </tr>\n    <tr>\n      <th>1</th>\n      <td>11520</td>\n      <td>RJ3132</td>\n      <td>1981.0</td>\n      <td>IBM Research Report, San Jose, California</td>\n    </tr>\n    <tr>\n      <th>2</th>\n      <td>11521</td>\n      <td>RJ909</td>\n      <td>1971.0</td>\n      <td>IBM Research Report, San Jose, California</td>\n    </tr>\n    <tr>\n      <th>3</th>\n      <td>11522</td>\n      <td>RJ893</td>\n      <td>1971.0</td>\n      <td>IBM Research Report, San Jose, California</td>\n    </tr>\n    <tr>\n      <th>4</th>\n      <td>11523</td>\n      <td>RJ599</td>\n      <td>1969.0</td>\n      <td>IBM Research Report, San Jose, California</td>\n    </tr>\n  </tbody>\n</table>\n</div>"
     },
     "execution_count": 184,
     "metadata": {},
     "output_type": "execute_result"
    }
   ],
   "source": [
    "volumes.head()"
   ],
   "metadata": {
    "collapsed": false,
    "ExecuteTime": {
     "end_time": "2024-05-23T02:28:54.853693Z",
     "start_time": "2024-05-23T02:28:54.845891Z"
    }
   },
   "id": "543ef8b6fe51182",
   "execution_count": 184
  },
  {
   "cell_type": "markdown",
   "source": [
    "## Data preparation\n",
    "To prepare the data we must:\n",
    "- Add Journal ID to volume.csv (only contains volume name currently)\n",
    "- Add ConfWork ID to Edition.csv (only contains volume name currently)\n",
    "\n",
    "These steps are not necessary, since the information is in other .csv files, however by incorporating the right information in these .csv files, we can save time by reading fewer files."
   ],
   "metadata": {
    "collapsed": false
   },
   "id": "2651550f4793976e"
  },
  {
   "cell_type": "code",
   "outputs": [
    {
     "data": {
      "text/plain": "   Volume_ID    name    year  Journal_ID\n0      11519  RJ1400  1974.0       11514\n1      11520  RJ3132  1981.0       11514\n2      11521   RJ909  1971.0       11514\n3      11522   RJ893  1971.0       11514\n4      11523   RJ599  1969.0       11514",
      "text/html": "<div>\n<style scoped>\n    .dataframe tbody tr th:only-of-type {\n        vertical-align: middle;\n    }\n\n    .dataframe tbody tr th {\n        vertical-align: top;\n    }\n\n    .dataframe thead th {\n        text-align: right;\n    }\n</style>\n<table border=\"1\" class=\"dataframe\">\n  <thead>\n    <tr style=\"text-align: right;\">\n      <th></th>\n      <th>Volume_ID</th>\n      <th>name</th>\n      <th>year</th>\n      <th>Journal_ID</th>\n    </tr>\n  </thead>\n  <tbody>\n    <tr>\n      <th>0</th>\n      <td>11519</td>\n      <td>RJ1400</td>\n      <td>1974.0</td>\n      <td>11514</td>\n    </tr>\n    <tr>\n      <th>1</th>\n      <td>11520</td>\n      <td>RJ3132</td>\n      <td>1981.0</td>\n      <td>11514</td>\n    </tr>\n    <tr>\n      <th>2</th>\n      <td>11521</td>\n      <td>RJ909</td>\n      <td>1971.0</td>\n      <td>11514</td>\n    </tr>\n    <tr>\n      <th>3</th>\n      <td>11522</td>\n      <td>RJ893</td>\n      <td>1971.0</td>\n      <td>11514</td>\n    </tr>\n    <tr>\n      <th>4</th>\n      <td>11523</td>\n      <td>RJ599</td>\n      <td>1969.0</td>\n      <td>11514</td>\n    </tr>\n  </tbody>\n</table>\n</div>"
     },
     "execution_count": 216,
     "metadata": {},
     "output_type": "execute_result"
    }
   ],
   "source": [
    "#volumes = pd.merge(volumes, journals, left_on='journalName', right_on='name', how='inner').rename(columns={'name_x':'name'}).drop(columns='name_y')\n",
    "volumes.head()"
   ],
   "metadata": {
    "collapsed": false,
    "ExecuteTime": {
     "end_time": "2024-05-23T04:26:41.146194Z",
     "start_time": "2024-05-23T04:26:41.138648Z"
    }
   },
   "id": "3aeda5fb3f658c14",
   "execution_count": 216
  },
  {
   "cell_type": "code",
   "outputs": [
    {
     "data": {
      "text/plain": "   Edition_ID  year           city  Conference_ID\n0       36394  2011  San Francisco          36405\n1       36395  2012      Ahmedabad          36406\n2       36396  2011         Mumbai          36407\n3       36397  2012       Santiago          36408\n4       36398  2012         Moscow          36405",
      "text/html": "<div>\n<style scoped>\n    .dataframe tbody tr th:only-of-type {\n        vertical-align: middle;\n    }\n\n    .dataframe tbody tr th {\n        vertical-align: top;\n    }\n\n    .dataframe thead th {\n        text-align: right;\n    }\n</style>\n<table border=\"1\" class=\"dataframe\">\n  <thead>\n    <tr style=\"text-align: right;\">\n      <th></th>\n      <th>Edition_ID</th>\n      <th>year</th>\n      <th>city</th>\n      <th>Conference_ID</th>\n    </tr>\n  </thead>\n  <tbody>\n    <tr>\n      <th>0</th>\n      <td>36394</td>\n      <td>2011</td>\n      <td>San Francisco</td>\n      <td>36405</td>\n    </tr>\n    <tr>\n      <th>1</th>\n      <td>36395</td>\n      <td>2012</td>\n      <td>Ahmedabad</td>\n      <td>36406</td>\n    </tr>\n    <tr>\n      <th>2</th>\n      <td>36396</td>\n      <td>2011</td>\n      <td>Mumbai</td>\n      <td>36407</td>\n    </tr>\n    <tr>\n      <th>3</th>\n      <td>36397</td>\n      <td>2012</td>\n      <td>Santiago</td>\n      <td>36408</td>\n    </tr>\n    <tr>\n      <th>4</th>\n      <td>36398</td>\n      <td>2012</td>\n      <td>Moscow</td>\n      <td>36405</td>\n    </tr>\n  </tbody>\n</table>\n</div>"
     },
     "execution_count": 221,
     "metadata": {},
     "output_type": "execute_result"
    }
   ],
   "source": [
    "#editions = pd.merge(editions, conferences, left_on='conference', right_on='name', how='inner').rename(columns={'name_x':'name'}).drop(columns=['conference', 'name'])\n",
    "editions.head()"
   ],
   "metadata": {
    "collapsed": false,
    "ExecuteTime": {
     "end_time": "2024-05-23T04:45:14.183781Z",
     "start_time": "2024-05-23T04:45:14.174985Z"
    }
   },
   "id": "accacc618eae49f7",
   "execution_count": 221
  },
  {
   "cell_type": "markdown",
   "source": [
    "## Data augmentation\n",
    "The data provided does not include some aspects that are mentioned in Section *B.1. TBOX definition* of the project statement. The missing aspects are:\n",
    "- Corresponding author\n",
    "- Review text\n",
    "- Abstract\n",
    "- Relevant author\n",
    "- Topics (groupings of keywords)\n",
    "- City (of editions)\n",
    "\n",
    "We shall add these aspects to the data, prior to insertion to GraphDB.\n",
    "N.B. Run commented lines only once"
   ],
   "metadata": {
    "collapsed": false
   },
   "id": "7ba8af8497a80f83"
  },
  {
   "cell_type": "markdown",
   "source": [],
   "metadata": {
    "collapsed": false
   },
   "id": "5cd42d8cce68c708"
  },
  {
   "cell_type": "markdown",
   "source": [
    "### Corresponding author"
   ],
   "metadata": {
    "collapsed": false
   },
   "id": "6f57ac652fe979b8"
  },
  {
   "cell_type": "code",
   "outputs": [
    {
     "data": {
      "text/plain": "   Paper_ID                                              title  \\\n0      6514  Interactive Support for Non-Programmers: The R...   \n1      6515  Common Subexpression Identification in General...   \n2      6516  The Capabilities of Relational Database Manage...   \n3      6517  Principles of Distributed Object Database Lang...   \n4      6518  Relational Completeness of Data Base Sublangua...   \n\n                  author  id corresponding_author                  abstract  \\\n0  C. J. Date|E. F. Codd  r2           C. J. Date   The paper highlights...   \n1     Patrick A. V. Hall   3   Patrick A. V. Hall    This paper is about...   \n2             E. F. Codd   4           E. F. Codd   The research reveals...   \n3          Markus Tresch   5        Markus Tresch    This paper is about...   \n4             E. F. Codd   6           E. F. Codd  The study illustrates...   \n\n   Author_ID  \n0      16588  \n1      16590  \n2      16589  \n3      16591  \n4      16589  ",
      "text/html": "<div>\n<style scoped>\n    .dataframe tbody tr th:only-of-type {\n        vertical-align: middle;\n    }\n\n    .dataframe tbody tr th {\n        vertical-align: top;\n    }\n\n    .dataframe thead th {\n        text-align: right;\n    }\n</style>\n<table border=\"1\" class=\"dataframe\">\n  <thead>\n    <tr style=\"text-align: right;\">\n      <th></th>\n      <th>Paper_ID</th>\n      <th>title</th>\n      <th>author</th>\n      <th>id</th>\n      <th>corresponding_author</th>\n      <th>abstract</th>\n      <th>Author_ID</th>\n    </tr>\n  </thead>\n  <tbody>\n    <tr>\n      <th>0</th>\n      <td>6514</td>\n      <td>Interactive Support for Non-Programmers: The R...</td>\n      <td>C. J. Date|E. F. Codd</td>\n      <td>r2</td>\n      <td>C. J. Date</td>\n      <td>The paper highlights...</td>\n      <td>16588</td>\n    </tr>\n    <tr>\n      <th>1</th>\n      <td>6515</td>\n      <td>Common Subexpression Identification in General...</td>\n      <td>Patrick A. V. Hall</td>\n      <td>3</td>\n      <td>Patrick A. V. Hall</td>\n      <td>This paper is about...</td>\n      <td>16590</td>\n    </tr>\n    <tr>\n      <th>2</th>\n      <td>6516</td>\n      <td>The Capabilities of Relational Database Manage...</td>\n      <td>E. F. Codd</td>\n      <td>4</td>\n      <td>E. F. Codd</td>\n      <td>The research reveals...</td>\n      <td>16589</td>\n    </tr>\n    <tr>\n      <th>3</th>\n      <td>6517</td>\n      <td>Principles of Distributed Object Database Lang...</td>\n      <td>Markus Tresch</td>\n      <td>5</td>\n      <td>Markus Tresch</td>\n      <td>This paper is about...</td>\n      <td>16591</td>\n    </tr>\n    <tr>\n      <th>4</th>\n      <td>6518</td>\n      <td>Relational Completeness of Data Base Sublangua...</td>\n      <td>E. F. Codd</td>\n      <td>6</td>\n      <td>E. F. Codd</td>\n      <td>The study illustrates...</td>\n      <td>16589</td>\n    </tr>\n  </tbody>\n</table>\n</div>"
     },
     "execution_count": 185,
     "metadata": {},
     "output_type": "execute_result"
    }
   ],
   "source": [
    "papers['corresponding_author'] = papers['author'].str.split('|').str[0]\n",
    "#papers = pd.merge(papers, authors, left_on='corresponding_author', right_on='name', how='inner').drop(columns='name')\n",
    "papers.head()"
   ],
   "metadata": {
    "collapsed": false,
    "ExecuteTime": {
     "end_time": "2024-05-23T02:28:54.876561Z",
     "start_time": "2024-05-23T02:28:54.853744Z"
    }
   },
   "id": "77e260cc5bd4a649",
   "execution_count": 185
  },
  {
   "cell_type": "markdown",
   "source": [
    "### Review text"
   ],
   "metadata": {
    "collapsed": false
   },
   "id": "3deaf81a7d11b420"
  },
  {
   "cell_type": "code",
   "outputs": [
    {
     "data": {
      "text/plain": "   REVIEWED_ID  Author_ID  Paper_ID                       review_text\n0       527824      18628      6514                          engaging\n1       527825      26214      6514               adequate references\n2       527826      17420      6514  research integrity is maintained\n3       527827      30713      6515                             clear\n4       527828      18460      6515                        innovative",
      "text/html": "<div>\n<style scoped>\n    .dataframe tbody tr th:only-of-type {\n        vertical-align: middle;\n    }\n\n    .dataframe tbody tr th {\n        vertical-align: top;\n    }\n\n    .dataframe thead th {\n        text-align: right;\n    }\n</style>\n<table border=\"1\" class=\"dataframe\">\n  <thead>\n    <tr style=\"text-align: right;\">\n      <th></th>\n      <th>REVIEWED_ID</th>\n      <th>Author_ID</th>\n      <th>Paper_ID</th>\n      <th>review_text</th>\n    </tr>\n  </thead>\n  <tbody>\n    <tr>\n      <th>0</th>\n      <td>527824</td>\n      <td>18628</td>\n      <td>6514</td>\n      <td>engaging</td>\n    </tr>\n    <tr>\n      <th>1</th>\n      <td>527825</td>\n      <td>26214</td>\n      <td>6514</td>\n      <td>adequate references</td>\n    </tr>\n    <tr>\n      <th>2</th>\n      <td>527826</td>\n      <td>17420</td>\n      <td>6514</td>\n      <td>research integrity is maintained</td>\n    </tr>\n    <tr>\n      <th>3</th>\n      <td>527827</td>\n      <td>30713</td>\n      <td>6515</td>\n      <td>clear</td>\n    </tr>\n    <tr>\n      <th>4</th>\n      <td>527828</td>\n      <td>18460</td>\n      <td>6515</td>\n      <td>innovative</td>\n    </tr>\n  </tbody>\n</table>\n</div>"
     },
     "execution_count": 186,
     "metadata": {},
     "output_type": "execute_result"
    }
   ],
   "source": [
    "reviews = [\n",
    "    'clear', 'well-structured', 'unclear', 'confusing', 'innovative', 'original', 'lacks originality', 'uninspired', 'rigorous', 'well-designed experiments', 'flawed methodology', 'inadequate sample size', 'strong results', 'significant findings', 'weak results', 'contradictory data', 'insightful discussion', 'addresses research questions', 'superficial discussion', 'fails to address key questions', 'adequate references', 'relevant citations', 'inadequate references', 'missing citations', 'engaging', 'concise', 'poorly written', 'wordy', 'limitations are acknowledged', 'weaknesses are discussed', 'major limitations are ignored', 'lack of suggestions for improvement', 'ethical issues are addressed', 'research integrity is maintained', 'ethical concerns are overlooked', 'lack of transparency', 'high-quality', 'impactful', 'poor quality', 'not suitable for publication'\n",
    "]\n",
    "#REVIEWED['review_text'] = [random.choice(reviews) for i in range(len(REVIEWED))]\n",
    "REVIEWED.head()"
   ],
   "metadata": {
    "collapsed": false,
    "ExecuteTime": {
     "end_time": "2024-05-23T02:28:54.894321Z",
     "start_time": "2024-05-23T02:28:54.877597Z"
    }
   },
   "id": "7c4b6cf15a072e08",
   "execution_count": 186
  },
  {
   "cell_type": "markdown",
   "source": [
    "### Abstract"
   ],
   "metadata": {
    "collapsed": false
   },
   "id": "883ad7a16c31afa8"
  },
  {
   "cell_type": "code",
   "outputs": [
    {
     "data": {
      "text/plain": "   Paper_ID                                              title  \\\n0      6514  Interactive Support for Non-Programmers: The R...   \n1      6515  Common Subexpression Identification in General...   \n2      6516  The Capabilities of Relational Database Manage...   \n3      6517  Principles of Distributed Object Database Lang...   \n4      6518  Relational Completeness of Data Base Sublangua...   \n\n                  author  id corresponding_author  \\\n0  C. J. Date|E. F. Codd  r2           C. J. Date   \n1     Patrick A. V. Hall   3   Patrick A. V. Hall   \n2             E. F. Codd   4           E. F. Codd   \n3          Markus Tresch   5        Markus Tresch   \n4             E. F. Codd   6           E. F. Codd   \n\n                          abstract  Author_ID  \n0       This study investigates...      16588  \n1  The research aims to explore...      16590  \n2  The research aims to explore...      16589  \n3            The paper examines...      16591  \n4  The research aims to explore...      16589  ",
      "text/html": "<div>\n<style scoped>\n    .dataframe tbody tr th:only-of-type {\n        vertical-align: middle;\n    }\n\n    .dataframe tbody tr th {\n        vertical-align: top;\n    }\n\n    .dataframe thead th {\n        text-align: right;\n    }\n</style>\n<table border=\"1\" class=\"dataframe\">\n  <thead>\n    <tr style=\"text-align: right;\">\n      <th></th>\n      <th>Paper_ID</th>\n      <th>title</th>\n      <th>author</th>\n      <th>id</th>\n      <th>corresponding_author</th>\n      <th>abstract</th>\n      <th>Author_ID</th>\n    </tr>\n  </thead>\n  <tbody>\n    <tr>\n      <th>0</th>\n      <td>6514</td>\n      <td>Interactive Support for Non-Programmers: The R...</td>\n      <td>C. J. Date|E. F. Codd</td>\n      <td>r2</td>\n      <td>C. J. Date</td>\n      <td>This study investigates...</td>\n      <td>16588</td>\n    </tr>\n    <tr>\n      <th>1</th>\n      <td>6515</td>\n      <td>Common Subexpression Identification in General...</td>\n      <td>Patrick A. V. Hall</td>\n      <td>3</td>\n      <td>Patrick A. V. Hall</td>\n      <td>The research aims to explore...</td>\n      <td>16590</td>\n    </tr>\n    <tr>\n      <th>2</th>\n      <td>6516</td>\n      <td>The Capabilities of Relational Database Manage...</td>\n      <td>E. F. Codd</td>\n      <td>4</td>\n      <td>E. F. Codd</td>\n      <td>The research aims to explore...</td>\n      <td>16589</td>\n    </tr>\n    <tr>\n      <th>3</th>\n      <td>6517</td>\n      <td>Principles of Distributed Object Database Lang...</td>\n      <td>Markus Tresch</td>\n      <td>5</td>\n      <td>Markus Tresch</td>\n      <td>The paper examines...</td>\n      <td>16591</td>\n    </tr>\n    <tr>\n      <th>4</th>\n      <td>6518</td>\n      <td>Relational Completeness of Data Base Sublangua...</td>\n      <td>E. F. Codd</td>\n      <td>6</td>\n      <td>E. F. Codd</td>\n      <td>The research aims to explore...</td>\n      <td>16589</td>\n    </tr>\n  </tbody>\n</table>\n</div>"
     },
     "execution_count": 187,
     "metadata": {},
     "output_type": "execute_result"
    }
   ],
   "source": [
    "abstracts = [\n",
    "    'This paper is about...', 'This study investigates...', \n",
    "    'The research aims to explore...', 'The paper examines...',\n",
    "    'This paper presents...', 'The study proposes...', \n",
    "    'The research introduces...', 'The paper discusses...',\n",
    "    'This paper demonstrates...', 'The study illustrates...', \n",
    "    'The research reveals...', 'The paper highlights...',\n",
    "    'This paper addresses...', 'The study analyzes...', \n",
    "    'The research evaluates...', 'The paper compares...'\n",
    "]\n",
    "#papers['abstract'] = [random.choice(abstracts) for i in range(len(papers))]\n",
    "papers.head()"
   ],
   "metadata": {
    "collapsed": false,
    "ExecuteTime": {
     "end_time": "2024-05-23T02:28:54.907173Z",
     "start_time": "2024-05-23T02:28:54.895384Z"
    }
   },
   "id": "1cfc5893f5e0a70b",
   "execution_count": 187
  },
  {
   "cell_type": "markdown",
   "source": [
    "### Relevant author"
   ],
   "metadata": {
    "collapsed": false
   },
   "id": "167880321bf9838b"
  },
  {
   "cell_type": "code",
   "outputs": [
    {
     "data": {
      "text/plain": "   Author_ID  relevantAuthorOf\n0      18628             36445\n1      26214             36438\n2      17420             11517\n3      30713             36468\n4      18460             36447",
      "text/html": "<div>\n<style scoped>\n    .dataframe tbody tr th:only-of-type {\n        vertical-align: middle;\n    }\n\n    .dataframe tbody tr th {\n        vertical-align: top;\n    }\n\n    .dataframe thead th {\n        text-align: right;\n    }\n</style>\n<table border=\"1\" class=\"dataframe\">\n  <thead>\n    <tr style=\"text-align: right;\">\n      <th></th>\n      <th>Author_ID</th>\n      <th>relevantAuthorOf</th>\n    </tr>\n  </thead>\n  <tbody>\n    <tr>\n      <th>0</th>\n      <td>18628</td>\n      <td>36445</td>\n    </tr>\n    <tr>\n      <th>1</th>\n      <td>26214</td>\n      <td>36438</td>\n    </tr>\n    <tr>\n      <th>2</th>\n      <td>17420</td>\n      <td>11517</td>\n    </tr>\n    <tr>\n      <th>3</th>\n      <td>30713</td>\n      <td>36468</td>\n    </tr>\n    <tr>\n      <th>4</th>\n      <td>18460</td>\n      <td>36447</td>\n    </tr>\n  </tbody>\n</table>\n</div>"
     },
     "execution_count": 188,
     "metadata": {},
     "output_type": "execute_result"
    }
   ],
   "source": [
    "reviewers = pd.DataFrame(REVIEWED['Author_ID'].unique(), columns=['Author_ID'])\n",
    "#reviewers['relevantAuthorOf'] = random.choices(journals['Journal_ID'].to_list()+conferences['Conference_ID'].to_list(), k=len(reviewers))\n",
    "reviewers.head()"
   ],
   "metadata": {
    "collapsed": false,
    "ExecuteTime": {
     "end_time": "2024-05-23T02:28:54.915792Z",
     "start_time": "2024-05-23T02:28:54.908181Z"
    }
   },
   "id": "efdaaa53ca43d2d9",
   "execution_count": 188
  },
  {
   "cell_type": "markdown",
   "source": [
    "### Topics"
   ],
   "metadata": {
    "collapsed": false
   },
   "id": "9659d500d7d19817"
  },
  {
   "cell_type": "code",
   "outputs": [
    {
     "data": {
      "text/plain": "   Keyword_ID            key                   topic  Topic_ID\n0       36588     Approaches  ArtificialIntelligence         0\n1       36589        Support              Humanities        40\n2       36590     Relational               Economics        49\n3       36591        Systems           GenomeEditing        10\n4       36592  Subexpression       TissueEngineering        23",
      "text/html": "<div>\n<style scoped>\n    .dataframe tbody tr th:only-of-type {\n        vertical-align: middle;\n    }\n\n    .dataframe tbody tr th {\n        vertical-align: top;\n    }\n\n    .dataframe thead th {\n        text-align: right;\n    }\n</style>\n<table border=\"1\" class=\"dataframe\">\n  <thead>\n    <tr style=\"text-align: right;\">\n      <th></th>\n      <th>Keyword_ID</th>\n      <th>key</th>\n      <th>topic</th>\n      <th>Topic_ID</th>\n    </tr>\n  </thead>\n  <tbody>\n    <tr>\n      <th>0</th>\n      <td>36588</td>\n      <td>Approaches</td>\n      <td>ArtificialIntelligence</td>\n      <td>0</td>\n    </tr>\n    <tr>\n      <th>1</th>\n      <td>36589</td>\n      <td>Support</td>\n      <td>Humanities</td>\n      <td>40</td>\n    </tr>\n    <tr>\n      <th>2</th>\n      <td>36590</td>\n      <td>Relational</td>\n      <td>Economics</td>\n      <td>49</td>\n    </tr>\n    <tr>\n      <th>3</th>\n      <td>36591</td>\n      <td>Systems</td>\n      <td>GenomeEditing</td>\n      <td>10</td>\n    </tr>\n    <tr>\n      <th>4</th>\n      <td>36592</td>\n      <td>Subexpression</td>\n      <td>TissueEngineering</td>\n      <td>23</td>\n    </tr>\n  </tbody>\n</table>\n</div>"
     },
     "execution_count": 193,
     "metadata": {},
     "output_type": "execute_result"
    }
   ],
   "source": [
    "topics = {\n",
    "    \"ArtificialIntelligence\": 0, \"ClimateChange\": 1, \"Bioinformatics\": 2, \"Nanotechnology\": 3, \"Epidemiology\": 4, \"QuantumComputing\": 5, \"StemCells\": 6, \"RenewableEnergy\": 7, \"Robotics\": 8, \"Neuroscience\": 9, \"GenomeEditing\": 10, \"SocialNetworks\": 11, \"SpaceExploration\": 12, \"Cybersecurity\": 13, \"DrugDiscovery\": 14, \"Human-ComputerInteraction\": 15, \"UrbanPlanning\": 16, \"Psychology\": 17, \"BiomedicalImaging\": 18, \"Agriculture\": 19, \"EvolutionaryBiology\": 20, \"3DPrinting\": 21, \"Oceanography\": 22, \"TissueEngineering\": 23, \"Cryptocurrencies\": 24, \"AugmentedReality\": 25, \"Paleontology\": 26, \"WirelessCommunication\": 27, \"Modeling\": 28, \"CancerBiology\": 29, \"GameTheory\": 30, \"Pollution\": 31, \"Wearables\": 32, \"Addiction\": 33, \"QuantumPhysics\": 34, \"Genetics\": 35, \"Ecology\": 36, \"LanguageProcessing\": 37, \"Atmosphere\": 38, \"Materials\": 39, \"Humanities\": 40, \"Virology\": 41, \"Astrophysics\": 42, \"Transportation\": 43, \"Behavior\": 44, \"IoT\": 45, \"Immunology\": 46, \"DataScience\": 47, \"Rights\": 48, \"Economics\": 49}\n",
    "#keywords['topic'] = random.choices(list(topics.keys()), k=len(keywords))\n",
    "#keywords['Topic_ID'] = [topics[topic] for topic in keywords['topic']]\n",
    "keywords.head()"
   ],
   "metadata": {
    "collapsed": false,
    "ExecuteTime": {
     "end_time": "2024-05-23T02:47:41.881258Z",
     "start_time": "2024-05-23T02:47:41.873752Z"
    }
   },
   "id": "71bed28a9f5a004d",
   "execution_count": 193
  },
  {
   "cell_type": "markdown",
   "source": [
    "### City"
   ],
   "metadata": {
    "collapsed": false
   },
   "id": "5b5b1cc3d2b46a89"
  },
  {
   "cell_type": "code",
   "outputs": [
    {
     "data": {
      "text/plain": "   Edition_ID  year conference           city\n0       36394  2011        ant  San Francisco\n1       36395  2012       cser      Ahmedabad\n2       36396  2011       iccS         Mumbai\n3       36397  2012    vsgames       Santiago\n4       36398  2012        ant         Moscow",
      "text/html": "<div>\n<style scoped>\n    .dataframe tbody tr th:only-of-type {\n        vertical-align: middle;\n    }\n\n    .dataframe tbody tr th {\n        vertical-align: top;\n    }\n\n    .dataframe thead th {\n        text-align: right;\n    }\n</style>\n<table border=\"1\" class=\"dataframe\">\n  <thead>\n    <tr style=\"text-align: right;\">\n      <th></th>\n      <th>Edition_ID</th>\n      <th>year</th>\n      <th>conference</th>\n      <th>city</th>\n    </tr>\n  </thead>\n  <tbody>\n    <tr>\n      <th>0</th>\n      <td>36394</td>\n      <td>2011</td>\n      <td>ant</td>\n      <td>San Francisco</td>\n    </tr>\n    <tr>\n      <th>1</th>\n      <td>36395</td>\n      <td>2012</td>\n      <td>cser</td>\n      <td>Ahmedabad</td>\n    </tr>\n    <tr>\n      <th>2</th>\n      <td>36396</td>\n      <td>2011</td>\n      <td>iccS</td>\n      <td>Mumbai</td>\n    </tr>\n    <tr>\n      <th>3</th>\n      <td>36397</td>\n      <td>2012</td>\n      <td>vsgames</td>\n      <td>Santiago</td>\n    </tr>\n    <tr>\n      <th>4</th>\n      <td>36398</td>\n      <td>2012</td>\n      <td>ant</td>\n      <td>Moscow</td>\n    </tr>\n  </tbody>\n</table>\n</div>"
     },
     "execution_count": 190,
     "metadata": {},
     "output_type": "execute_result"
    }
   ],
   "source": [
    "cities = [\n",
    "    \"Tokyo\", \"New York City\", \"Los Angeles\", \"Paris\", \"London\",\n",
    "    \"Hong Kong\", \"Singapore\", \"Dubai\", \"Shanghai\", \"Beijing\",\n",
    "    \"Mumbai\", \"São Paulo\", \"Moscow\", \"Seoul\", \"Istanbul\",\n",
    "    \"Mexico City\", \"Delhi\", \"Jakarta\", \"Cairo\", \"Lagos\",\n",
    "    \"Buenos Aires\", \"Kolkata\", \"Karachi\", \"Rio de Janeiro\", \"Manila\",\n",
    "    \"Dhaka\", \"Osaka\", \"Bangkok\", \"Lahore\", \"Lima\",\n",
    "    \"Chicago\", \"Tianjin\", \"Kinshasa\", \"Chennai\", \"Bogotá\",\n",
    "    \"Hyderabad\", \"Bangalore\", \"Johannesburg\", \"Ho Chi Minh City\", \"Wuhan\",\n",
    "    \"Ahmedabad\", \"Baghdad\", \"Toronto\", \"Santiago\", \"Kuala Lumpur\",\n",
    "    \"Singapore\", \"San Francisco\", \"Sydney\", \"Amsterdam\", \"Berlin\"\n",
    "]\n",
    "#editions['city'] = random.choices(cities, k=len(editions))\n",
    "editions.head()"
   ],
   "metadata": {
    "collapsed": false,
    "ExecuteTime": {
     "end_time": "2024-05-23T02:28:54.938314Z",
     "start_time": "2024-05-23T02:28:54.929244Z"
    }
   },
   "id": "448d1e8ef424c931",
   "execution_count": 190
  },
  {
   "cell_type": "markdown",
   "source": [
    "## Save all\n",
    "Convert cell below to markdow to save"
   ],
   "metadata": {
    "collapsed": false
   },
   "id": "ce1e57bece33a54b"
  },
  {
   "cell_type": "markdown",
   "source": [
    "authors.to_csv('./data_preprocessed/Author.csv', index=False)\n",
    "authors_affiliated_company.to_csv('./data_preprocessed/AUTHOR_AFFILIATED_COMPANY.csv', index=False)\n",
    "authors_affiliated_university.to_csv('./data_preprocessed/AUTHOR_AFFILIATED_UNIVERSITY.csv', index=False)\n",
    "authored.to_csv('./data_preprocessed/AUTHORED.csv', index=False)\n",
    "cites.to_csv('./data_preprocessed/CITES.csv', index=False)\n",
    "companies.to_csv('./data_preprocessed/Company.csv', index=False)\n",
    "conferences.to_csv('./data_preprocessed/Conference.csv', index=False)\n",
    "editions.to_csv('./data_preprocessed/Edition.csv', index=False)\n",
    "HAS_VOLUME.to_csv('./data_preprocessed/HAS_VOLUME.csv', index=False)\n",
    "IS_ABOUT.to_csv('./data_preprocessed/IS_ABOUT.csv', index=False)\n",
    "journals.to_csv('./data_preprocessed/Journal.csv', index=False)\n",
    "keywords.to_csv('./data_preprocessed/Keyword.csv', index=False)\n",
    "organizes.to_csv('./data_preprocessed/ORGANIZES.csv', index=False)\n",
    "papers.to_csv('./data_preprocessed/Paper.csv', index=False)\n",
    "PRESENTED_AT.to_csv('./data_preprocessed/PRESENTED_AT.csv', index=False)\n",
    "PUBLISHED_IN.to_csv('./data_preprocessed/PUBLISHED_IN.csv', index=False)\n",
    "REVIEWED.to_csv('./data_preprocessed/REVIEWED.csv', index=False)\n",
    "universities.to_csv('./data_preprocessed/University.csv', index=False)\n",
    "volumes.to_csv('./data_preprocessed/Volume.csv', index=False)\n",
    "reviewers.to_csv('./data_preprocessed/Reviewer.csv', index=False)"
   ],
   "metadata": {
    "collapsed": false
   },
   "id": "faa9581f7426c425"
  },
  {
   "cell_type": "markdown",
   "source": [],
   "metadata": {
    "collapsed": false
   },
   "id": "ffdfc3c690caea54"
  }
 ],
 "metadata": {
  "kernelspec": {
   "display_name": "Python 3",
   "language": "python",
   "name": "python3"
  },
  "language_info": {
   "codemirror_mode": {
    "name": "ipython",
    "version": 2
   },
   "file_extension": ".py",
   "mimetype": "text/x-python",
   "name": "python",
   "nbconvert_exporter": "python",
   "pygments_lexer": "ipython2",
   "version": "2.7.6"
  }
 },
 "nbformat": 4,
 "nbformat_minor": 5
}
