{
 "cells": [
  {
   "cell_type": "code",
   "execution_count": 204,
   "id": "initial_id",
   "metadata": {
    "collapsed": true,
    "ExecuteTime": {
     "end_time": "2024-05-26T16:11:42.729170Z",
     "start_time": "2024-05-26T16:11:42.687966Z"
    }
   },
   "outputs": [],
   "source": [
    "import pandas as pd\n",
    "import random"
   ]
  },
  {
   "cell_type": "code",
   "outputs": [],
   "source": [
    "authors = pd.read_csv('./data_raw/Author.csv')\n",
    "authors_affiliated_company = pd.read_csv('./data_raw/AUTHOR_AFFILIATED_COMPANY.csv')\n",
    "authors_affiliated_university = pd.read_csv('./data_raw/AUTHOR_AFFILIATED_UNIVERSITY.csv')\n",
    "authored = pd.read_csv('./data_raw/AUTHORED.csv')\n",
    "cites = pd.read_csv('./data_raw/CITES.csv')\n",
    "companies = pd.read_csv('./data_raw/Company.csv')\n",
    "conferences = pd.read_csv('./data_raw/Conference.csv')\n",
    "editions = pd.read_csv('./data_raw/EDITION.csv')\n",
    "HAS_VOLUME = pd.read_csv('./data_raw/HAS_VOLUME.csv')\n",
    "IS_ABOUT = pd.read_csv('./data_raw/IS_ABOUT.csv')\n",
    "journals = pd.read_csv('./data_raw/Journal.csv')\n",
    "keywords = pd.read_csv('./data_raw/Keyword.csv')\n",
    "organizes = pd.read_csv('./data_raw/ORGANIZES.csv')\n",
    "papers = pd.read_csv('./data_raw/Paper.csv')\n",
    "PRESENTED_AT = pd.read_csv('./data_raw/PRESENTED_AT.csv')\n",
    "PUBLISHED_IN = pd.read_csv('./data_raw/PUBLISHED_IN.csv')\n",
    "REVIEWED = pd.read_csv('./data_raw/REVIEWED.csv')\n",
    "universities = pd.read_csv('./data_raw/University.csv')\n",
    "volumes = pd.read_csv('./data_raw/Volume.csv')"
   ],
   "metadata": {
    "collapsed": false,
    "ExecuteTime": {
     "end_time": "2024-05-26T16:11:44.790562Z",
     "start_time": "2024-05-26T16:11:43.269164Z"
    }
   },
   "id": "e779387c2e7cb541",
   "execution_count": 205
  },
  {
   "cell_type": "code",
   "outputs": [
    {
     "data": {
      "text/plain": "   Author_ID                name\n0      16588          C. J. Date\n1      16589          E. F. Codd\n2      16590  Patrick A. V. Hall\n3      16591       Markus Tresch\n4      16592        Andreas Rock",
      "text/html": "<div>\n<style scoped>\n    .dataframe tbody tr th:only-of-type {\n        vertical-align: middle;\n    }\n\n    .dataframe tbody tr th {\n        vertical-align: top;\n    }\n\n    .dataframe thead th {\n        text-align: right;\n    }\n</style>\n<table border=\"1\" class=\"dataframe\">\n  <thead>\n    <tr style=\"text-align: right;\">\n      <th></th>\n      <th>Author_ID</th>\n      <th>name</th>\n    </tr>\n  </thead>\n  <tbody>\n    <tr>\n      <th>0</th>\n      <td>16588</td>\n      <td>C. J. Date</td>\n    </tr>\n    <tr>\n      <th>1</th>\n      <td>16589</td>\n      <td>E. F. Codd</td>\n    </tr>\n    <tr>\n      <th>2</th>\n      <td>16590</td>\n      <td>Patrick A. V. Hall</td>\n    </tr>\n    <tr>\n      <th>3</th>\n      <td>16591</td>\n      <td>Markus Tresch</td>\n    </tr>\n    <tr>\n      <th>4</th>\n      <td>16592</td>\n      <td>Andreas Rock</td>\n    </tr>\n  </tbody>\n</table>\n</div>"
     },
     "execution_count": 206,
     "metadata": {},
     "output_type": "execute_result"
    }
   ],
   "source": [
    "authors.head()"
   ],
   "metadata": {
    "collapsed": false,
    "ExecuteTime": {
     "end_time": "2024-05-26T16:11:44.841002Z",
     "start_time": "2024-05-26T16:11:44.796592Z"
    }
   },
   "id": "d939bce6d86943c4",
   "execution_count": 206
  },
  {
   "cell_type": "code",
   "outputs": [
    {
     "data": {
      "text/plain": "   AFFILIATED_ID  Author_ID  Company_ID\n0         526543      21042           1\n1         571756      36255           1\n2         571565      36064           1\n3         571407      35906           1\n4         571398      35897           1",
      "text/html": "<div>\n<style scoped>\n    .dataframe tbody tr th:only-of-type {\n        vertical-align: middle;\n    }\n\n    .dataframe tbody tr th {\n        vertical-align: top;\n    }\n\n    .dataframe thead th {\n        text-align: right;\n    }\n</style>\n<table border=\"1\" class=\"dataframe\">\n  <thead>\n    <tr style=\"text-align: right;\">\n      <th></th>\n      <th>AFFILIATED_ID</th>\n      <th>Author_ID</th>\n      <th>Company_ID</th>\n    </tr>\n  </thead>\n  <tbody>\n    <tr>\n      <th>0</th>\n      <td>526543</td>\n      <td>21042</td>\n      <td>1</td>\n    </tr>\n    <tr>\n      <th>1</th>\n      <td>571756</td>\n      <td>36255</td>\n      <td>1</td>\n    </tr>\n    <tr>\n      <th>2</th>\n      <td>571565</td>\n      <td>36064</td>\n      <td>1</td>\n    </tr>\n    <tr>\n      <th>3</th>\n      <td>571407</td>\n      <td>35906</td>\n      <td>1</td>\n    </tr>\n    <tr>\n      <th>4</th>\n      <td>571398</td>\n      <td>35897</td>\n      <td>1</td>\n    </tr>\n  </tbody>\n</table>\n</div>"
     },
     "execution_count": 207,
     "metadata": {},
     "output_type": "execute_result"
    }
   ],
   "source": [
    "authors_affiliated_company.head()"
   ],
   "metadata": {
    "collapsed": false,
    "ExecuteTime": {
     "end_time": "2024-05-26T16:11:44.863263Z",
     "start_time": "2024-05-26T16:11:44.845633Z"
    }
   },
   "id": "ffe899b7feac9fcf",
   "execution_count": 207
  },
  {
   "cell_type": "code",
   "outputs": [
    {
     "data": {
      "text/plain": "   AFFILIATED_ID  Author_ID  University_ID\n0         527657      22156              0\n1         571608      36107              0\n2         571333      35832              0\n3         571140      35639              0\n4         571080      35579              0",
      "text/html": "<div>\n<style scoped>\n    .dataframe tbody tr th:only-of-type {\n        vertical-align: middle;\n    }\n\n    .dataframe tbody tr th {\n        vertical-align: top;\n    }\n\n    .dataframe thead th {\n        text-align: right;\n    }\n</style>\n<table border=\"1\" class=\"dataframe\">\n  <thead>\n    <tr style=\"text-align: right;\">\n      <th></th>\n      <th>AFFILIATED_ID</th>\n      <th>Author_ID</th>\n      <th>University_ID</th>\n    </tr>\n  </thead>\n  <tbody>\n    <tr>\n      <th>0</th>\n      <td>527657</td>\n      <td>22156</td>\n      <td>0</td>\n    </tr>\n    <tr>\n      <th>1</th>\n      <td>571608</td>\n      <td>36107</td>\n      <td>0</td>\n    </tr>\n    <tr>\n      <th>2</th>\n      <td>571333</td>\n      <td>35832</td>\n      <td>0</td>\n    </tr>\n    <tr>\n      <th>3</th>\n      <td>571140</td>\n      <td>35639</td>\n      <td>0</td>\n    </tr>\n    <tr>\n      <th>4</th>\n      <td>571080</td>\n      <td>35579</td>\n      <td>0</td>\n    </tr>\n  </tbody>\n</table>\n</div>"
     },
     "execution_count": 208,
     "metadata": {},
     "output_type": "execute_result"
    }
   ],
   "source": [
    "authors_affiliated_university.head()"
   ],
   "metadata": {
    "collapsed": false,
    "ExecuteTime": {
     "end_time": "2024-05-26T16:11:44.888329Z",
     "start_time": "2024-05-26T16:11:44.868990Z"
    }
   },
   "id": "6507a8f6c661017d",
   "execution_count": 208
  },
  {
   "cell_type": "code",
   "outputs": [
    {
     "data": {
      "text/plain": "   AUTHORED_ID  Author_ID  Paper_ID\n0         5055      16588      6514\n1         5056      16589      6514\n2         5057      16590      6515\n3         5058      16589      6516\n4         5059      16591      6517",
      "text/html": "<div>\n<style scoped>\n    .dataframe tbody tr th:only-of-type {\n        vertical-align: middle;\n    }\n\n    .dataframe tbody tr th {\n        vertical-align: top;\n    }\n\n    .dataframe thead th {\n        text-align: right;\n    }\n</style>\n<table border=\"1\" class=\"dataframe\">\n  <thead>\n    <tr style=\"text-align: right;\">\n      <th></th>\n      <th>AUTHORED_ID</th>\n      <th>Author_ID</th>\n      <th>Paper_ID</th>\n    </tr>\n  </thead>\n  <tbody>\n    <tr>\n      <th>0</th>\n      <td>5055</td>\n      <td>16588</td>\n      <td>6514</td>\n    </tr>\n    <tr>\n      <th>1</th>\n      <td>5056</td>\n      <td>16589</td>\n      <td>6514</td>\n    </tr>\n    <tr>\n      <th>2</th>\n      <td>5057</td>\n      <td>16590</td>\n      <td>6515</td>\n    </tr>\n    <tr>\n      <th>3</th>\n      <td>5058</td>\n      <td>16589</td>\n      <td>6516</td>\n    </tr>\n    <tr>\n      <th>4</th>\n      <td>5059</td>\n      <td>16591</td>\n      <td>6517</td>\n    </tr>\n  </tbody>\n</table>\n</div>"
     },
     "execution_count": 209,
     "metadata": {},
     "output_type": "execute_result"
    }
   ],
   "source": [
    "authored.head()"
   ],
   "metadata": {
    "collapsed": false,
    "ExecuteTime": {
     "end_time": "2024-05-26T16:11:44.910408Z",
     "start_time": "2024-05-26T16:11:44.893465Z"
    }
   },
   "id": "3b62804865a92f56",
   "execution_count": 209
  },
  {
   "cell_type": "code",
   "outputs": [
    {
     "data": {
      "text/plain": "   CITES_ID  Citing_Paper_ID  Cited_Paper_ID\n0     38408             8753            6514\n1     38409            11332            6514\n2     38410             7342            6515\n3     38411             6956            6515\n4     38412             9095            6515",
      "text/html": "<div>\n<style scoped>\n    .dataframe tbody tr th:only-of-type {\n        vertical-align: middle;\n    }\n\n    .dataframe tbody tr th {\n        vertical-align: top;\n    }\n\n    .dataframe thead th {\n        text-align: right;\n    }\n</style>\n<table border=\"1\" class=\"dataframe\">\n  <thead>\n    <tr style=\"text-align: right;\">\n      <th></th>\n      <th>CITES_ID</th>\n      <th>Citing_Paper_ID</th>\n      <th>Cited_Paper_ID</th>\n    </tr>\n  </thead>\n  <tbody>\n    <tr>\n      <th>0</th>\n      <td>38408</td>\n      <td>8753</td>\n      <td>6514</td>\n    </tr>\n    <tr>\n      <th>1</th>\n      <td>38409</td>\n      <td>11332</td>\n      <td>6514</td>\n    </tr>\n    <tr>\n      <th>2</th>\n      <td>38410</td>\n      <td>7342</td>\n      <td>6515</td>\n    </tr>\n    <tr>\n      <th>3</th>\n      <td>38411</td>\n      <td>6956</td>\n      <td>6515</td>\n    </tr>\n    <tr>\n      <th>4</th>\n      <td>38412</td>\n      <td>9095</td>\n      <td>6515</td>\n    </tr>\n  </tbody>\n</table>\n</div>"
     },
     "execution_count": 210,
     "metadata": {},
     "output_type": "execute_result"
    }
   ],
   "source": [
    "cites.head()"
   ],
   "metadata": {
    "collapsed": false,
    "ExecuteTime": {
     "end_time": "2024-05-26T16:11:44.935510Z",
     "start_time": "2024-05-26T16:11:44.915579Z"
    }
   },
   "id": "9bbb5d9e380d517c",
   "execution_count": 210
  },
  {
   "cell_type": "code",
   "outputs": [
    {
     "data": {
      "text/plain": "   Company_ID                         name\n0           1                  Rush-Campos\n1           2  Tucker, Decker and Erickson\n2           3                 Thompson Ltd\n3           4               Lewis and Sons\n4           5    Higgins, Young and Bowers",
      "text/html": "<div>\n<style scoped>\n    .dataframe tbody tr th:only-of-type {\n        vertical-align: middle;\n    }\n\n    .dataframe tbody tr th {\n        vertical-align: top;\n    }\n\n    .dataframe thead th {\n        text-align: right;\n    }\n</style>\n<table border=\"1\" class=\"dataframe\">\n  <thead>\n    <tr style=\"text-align: right;\">\n      <th></th>\n      <th>Company_ID</th>\n      <th>name</th>\n    </tr>\n  </thead>\n  <tbody>\n    <tr>\n      <th>0</th>\n      <td>1</td>\n      <td>Rush-Campos</td>\n    </tr>\n    <tr>\n      <th>1</th>\n      <td>2</td>\n      <td>Tucker, Decker and Erickson</td>\n    </tr>\n    <tr>\n      <th>2</th>\n      <td>3</td>\n      <td>Thompson Ltd</td>\n    </tr>\n    <tr>\n      <th>3</th>\n      <td>4</td>\n      <td>Lewis and Sons</td>\n    </tr>\n    <tr>\n      <th>4</th>\n      <td>5</td>\n      <td>Higgins, Young and Bowers</td>\n    </tr>\n  </tbody>\n</table>\n</div>"
     },
     "execution_count": 211,
     "metadata": {},
     "output_type": "execute_result"
    }
   ],
   "source": [
    "companies.head()"
   ],
   "metadata": {
    "collapsed": false,
    "ExecuteTime": {
     "end_time": "2024-05-26T16:11:44.956539Z",
     "start_time": "2024-05-26T16:11:44.940224Z"
    }
   },
   "id": "96b6975111608dec",
   "execution_count": 211
  },
  {
   "cell_type": "code",
   "outputs": [
    {
     "data": {
      "text/plain": "   Conference_ID            name\n0          36405             ant\n1          36406            cser\n2          36407            iccS\n3          36408         vsgames\n4          36409  complexsystems",
      "text/html": "<div>\n<style scoped>\n    .dataframe tbody tr th:only-of-type {\n        vertical-align: middle;\n    }\n\n    .dataframe tbody tr th {\n        vertical-align: top;\n    }\n\n    .dataframe thead th {\n        text-align: right;\n    }\n</style>\n<table border=\"1\" class=\"dataframe\">\n  <thead>\n    <tr style=\"text-align: right;\">\n      <th></th>\n      <th>Conference_ID</th>\n      <th>name</th>\n    </tr>\n  </thead>\n  <tbody>\n    <tr>\n      <th>0</th>\n      <td>36405</td>\n      <td>ant</td>\n    </tr>\n    <tr>\n      <th>1</th>\n      <td>36406</td>\n      <td>cser</td>\n    </tr>\n    <tr>\n      <th>2</th>\n      <td>36407</td>\n      <td>iccS</td>\n    </tr>\n    <tr>\n      <th>3</th>\n      <td>36408</td>\n      <td>vsgames</td>\n    </tr>\n    <tr>\n      <th>4</th>\n      <td>36409</td>\n      <td>complexsystems</td>\n    </tr>\n  </tbody>\n</table>\n</div>"
     },
     "execution_count": 212,
     "metadata": {},
     "output_type": "execute_result"
    }
   ],
   "source": [
    "conferences.head()"
   ],
   "metadata": {
    "collapsed": false,
    "ExecuteTime": {
     "end_time": "2024-05-26T16:11:44.983643Z",
     "start_time": "2024-05-26T16:11:44.961693Z"
    }
   },
   "id": "21238cf7a47cfc3a",
   "execution_count": 212
  },
  {
   "cell_type": "code",
   "outputs": [
    {
     "data": {
      "text/plain": "   Edition_ID  year conference\n0       36394  2011        ant\n1       36395  2012       cser\n2       36396  2011       iccS\n3       36397  2012    vsgames\n4       36398  2012        ant",
      "text/html": "<div>\n<style scoped>\n    .dataframe tbody tr th:only-of-type {\n        vertical-align: middle;\n    }\n\n    .dataframe tbody tr th {\n        vertical-align: top;\n    }\n\n    .dataframe thead th {\n        text-align: right;\n    }\n</style>\n<table border=\"1\" class=\"dataframe\">\n  <thead>\n    <tr style=\"text-align: right;\">\n      <th></th>\n      <th>Edition_ID</th>\n      <th>year</th>\n      <th>conference</th>\n    </tr>\n  </thead>\n  <tbody>\n    <tr>\n      <th>0</th>\n      <td>36394</td>\n      <td>2011</td>\n      <td>ant</td>\n    </tr>\n    <tr>\n      <th>1</th>\n      <td>36395</td>\n      <td>2012</td>\n      <td>cser</td>\n    </tr>\n    <tr>\n      <th>2</th>\n      <td>36396</td>\n      <td>2011</td>\n      <td>iccS</td>\n    </tr>\n    <tr>\n      <th>3</th>\n      <td>36397</td>\n      <td>2012</td>\n      <td>vsgames</td>\n    </tr>\n    <tr>\n      <th>4</th>\n      <td>36398</td>\n      <td>2012</td>\n      <td>ant</td>\n    </tr>\n  </tbody>\n</table>\n</div>"
     },
     "execution_count": 213,
     "metadata": {},
     "output_type": "execute_result"
    }
   ],
   "source": [
    "editions.head()"
   ],
   "metadata": {
    "collapsed": false,
    "ExecuteTime": {
     "end_time": "2024-05-26T16:11:45.008126Z",
     "start_time": "2024-05-26T16:11:44.989849Z"
    }
   },
   "id": "b93eb957aabce0fe",
   "execution_count": 213
  },
  {
   "cell_type": "code",
   "outputs": [
    {
     "data": {
      "text/plain": "   HAS_VOLUME_ID  Journal_ID  Volume_ID\n0              0       11514      11519\n1              1       11514      11520\n2              2       11514      11521\n3              3       11514      11522\n4              4       11514      11523",
      "text/html": "<div>\n<style scoped>\n    .dataframe tbody tr th:only-of-type {\n        vertical-align: middle;\n    }\n\n    .dataframe tbody tr th {\n        vertical-align: top;\n    }\n\n    .dataframe thead th {\n        text-align: right;\n    }\n</style>\n<table border=\"1\" class=\"dataframe\">\n  <thead>\n    <tr style=\"text-align: right;\">\n      <th></th>\n      <th>HAS_VOLUME_ID</th>\n      <th>Journal_ID</th>\n      <th>Volume_ID</th>\n    </tr>\n  </thead>\n  <tbody>\n    <tr>\n      <th>0</th>\n      <td>0</td>\n      <td>11514</td>\n      <td>11519</td>\n    </tr>\n    <tr>\n      <th>1</th>\n      <td>1</td>\n      <td>11514</td>\n      <td>11520</td>\n    </tr>\n    <tr>\n      <th>2</th>\n      <td>2</td>\n      <td>11514</td>\n      <td>11521</td>\n    </tr>\n    <tr>\n      <th>3</th>\n      <td>3</td>\n      <td>11514</td>\n      <td>11522</td>\n    </tr>\n    <tr>\n      <th>4</th>\n      <td>4</td>\n      <td>11514</td>\n      <td>11523</td>\n    </tr>\n  </tbody>\n</table>\n</div>"
     },
     "execution_count": 214,
     "metadata": {},
     "output_type": "execute_result"
    }
   ],
   "source": [
    "HAS_VOLUME.head()"
   ],
   "metadata": {
    "collapsed": false,
    "ExecuteTime": {
     "end_time": "2024-05-26T16:11:45.029068Z",
     "start_time": "2024-05-26T16:11:45.014368Z"
    }
   },
   "id": "6a67779b22d1fb80",
   "execution_count": 214
  },
  {
   "cell_type": "code",
   "outputs": [
    {
     "data": {
      "text/plain": "   IS_ABOUT_ID  Paper_ID  Keyword_ID\n0       492565      6514       36588\n1       492566      6514       36589\n2       492567      6514       36590\n3       492568      6515       36591\n4       492569      6515       36592",
      "text/html": "<div>\n<style scoped>\n    .dataframe tbody tr th:only-of-type {\n        vertical-align: middle;\n    }\n\n    .dataframe tbody tr th {\n        vertical-align: top;\n    }\n\n    .dataframe thead th {\n        text-align: right;\n    }\n</style>\n<table border=\"1\" class=\"dataframe\">\n  <thead>\n    <tr style=\"text-align: right;\">\n      <th></th>\n      <th>IS_ABOUT_ID</th>\n      <th>Paper_ID</th>\n      <th>Keyword_ID</th>\n    </tr>\n  </thead>\n  <tbody>\n    <tr>\n      <th>0</th>\n      <td>492565</td>\n      <td>6514</td>\n      <td>36588</td>\n    </tr>\n    <tr>\n      <th>1</th>\n      <td>492566</td>\n      <td>6514</td>\n      <td>36589</td>\n    </tr>\n    <tr>\n      <th>2</th>\n      <td>492567</td>\n      <td>6514</td>\n      <td>36590</td>\n    </tr>\n    <tr>\n      <th>3</th>\n      <td>492568</td>\n      <td>6515</td>\n      <td>36591</td>\n    </tr>\n    <tr>\n      <th>4</th>\n      <td>492569</td>\n      <td>6515</td>\n      <td>36592</td>\n    </tr>\n  </tbody>\n</table>\n</div>"
     },
     "execution_count": 215,
     "metadata": {},
     "output_type": "execute_result"
    }
   ],
   "source": [
    "IS_ABOUT.head()"
   ],
   "metadata": {
    "collapsed": false,
    "ExecuteTime": {
     "end_time": "2024-05-26T16:11:45.048574Z",
     "start_time": "2024-05-26T16:11:45.031464Z"
    }
   },
   "id": "ef8dcdd962ee6905",
   "execution_count": 215
  },
  {
   "cell_type": "code",
   "outputs": [
    {
     "data": {
      "text/plain": "   Journal_ID                                               name\n0       11514          IBM Research Report, San Jose, California\n1       11515                Hydrology and Earth System Sciences\n2       11516  Foundations and Trends in Communications and I...\n3       11517                                     ACM Crossroads\n4       11518            IEEE T. Instrumentation and Measurement",
      "text/html": "<div>\n<style scoped>\n    .dataframe tbody tr th:only-of-type {\n        vertical-align: middle;\n    }\n\n    .dataframe tbody tr th {\n        vertical-align: top;\n    }\n\n    .dataframe thead th {\n        text-align: right;\n    }\n</style>\n<table border=\"1\" class=\"dataframe\">\n  <thead>\n    <tr style=\"text-align: right;\">\n      <th></th>\n      <th>Journal_ID</th>\n      <th>name</th>\n    </tr>\n  </thead>\n  <tbody>\n    <tr>\n      <th>0</th>\n      <td>11514</td>\n      <td>IBM Research Report, San Jose, California</td>\n    </tr>\n    <tr>\n      <th>1</th>\n      <td>11515</td>\n      <td>Hydrology and Earth System Sciences</td>\n    </tr>\n    <tr>\n      <th>2</th>\n      <td>11516</td>\n      <td>Foundations and Trends in Communications and I...</td>\n    </tr>\n    <tr>\n      <th>3</th>\n      <td>11517</td>\n      <td>ACM Crossroads</td>\n    </tr>\n    <tr>\n      <th>4</th>\n      <td>11518</td>\n      <td>IEEE T. Instrumentation and Measurement</td>\n    </tr>\n  </tbody>\n</table>\n</div>"
     },
     "execution_count": 216,
     "metadata": {},
     "output_type": "execute_result"
    }
   ],
   "source": [
    "journals.head()"
   ],
   "metadata": {
    "collapsed": false,
    "ExecuteTime": {
     "end_time": "2024-05-26T16:11:45.068069Z",
     "start_time": "2024-05-26T16:11:45.053229Z"
    }
   },
   "id": "fb2fcaca4185c195",
   "execution_count": 216
  },
  {
   "cell_type": "code",
   "outputs": [
    {
     "data": {
      "text/plain": "   Keyword_ID            key\n0       36588     Approaches\n1       36589        Support\n2       36590     Relational\n3       36591        Systems\n4       36592  Subexpression",
      "text/html": "<div>\n<style scoped>\n    .dataframe tbody tr th:only-of-type {\n        vertical-align: middle;\n    }\n\n    .dataframe tbody tr th {\n        vertical-align: top;\n    }\n\n    .dataframe thead th {\n        text-align: right;\n    }\n</style>\n<table border=\"1\" class=\"dataframe\">\n  <thead>\n    <tr style=\"text-align: right;\">\n      <th></th>\n      <th>Keyword_ID</th>\n      <th>key</th>\n    </tr>\n  </thead>\n  <tbody>\n    <tr>\n      <th>0</th>\n      <td>36588</td>\n      <td>Approaches</td>\n    </tr>\n    <tr>\n      <th>1</th>\n      <td>36589</td>\n      <td>Support</td>\n    </tr>\n    <tr>\n      <th>2</th>\n      <td>36590</td>\n      <td>Relational</td>\n    </tr>\n    <tr>\n      <th>3</th>\n      <td>36591</td>\n      <td>Systems</td>\n    </tr>\n    <tr>\n      <th>4</th>\n      <td>36592</td>\n      <td>Subexpression</td>\n    </tr>\n  </tbody>\n</table>\n</div>"
     },
     "execution_count": 217,
     "metadata": {},
     "output_type": "execute_result"
    }
   ],
   "source": [
    "keywords.head()"
   ],
   "metadata": {
    "collapsed": false,
    "ExecuteTime": {
     "end_time": "2024-05-26T16:11:45.086149Z",
     "start_time": "2024-05-26T16:11:45.071898Z"
    }
   },
   "id": "49feda227654f0d1",
   "execution_count": 217
  },
  {
   "cell_type": "code",
   "outputs": [
    {
     "data": {
      "text/plain": "   ORGANIZES_ID  Conference_ID  Edition_ID\n0         35997          36405       36394\n1         35998          36406       36395\n2         35999          36407       36396\n3         36000          36408       36397\n4         36001          36405       36398",
      "text/html": "<div>\n<style scoped>\n    .dataframe tbody tr th:only-of-type {\n        vertical-align: middle;\n    }\n\n    .dataframe tbody tr th {\n        vertical-align: top;\n    }\n\n    .dataframe thead th {\n        text-align: right;\n    }\n</style>\n<table border=\"1\" class=\"dataframe\">\n  <thead>\n    <tr style=\"text-align: right;\">\n      <th></th>\n      <th>ORGANIZES_ID</th>\n      <th>Conference_ID</th>\n      <th>Edition_ID</th>\n    </tr>\n  </thead>\n  <tbody>\n    <tr>\n      <th>0</th>\n      <td>35997</td>\n      <td>36405</td>\n      <td>36394</td>\n    </tr>\n    <tr>\n      <th>1</th>\n      <td>35998</td>\n      <td>36406</td>\n      <td>36395</td>\n    </tr>\n    <tr>\n      <th>2</th>\n      <td>35999</td>\n      <td>36407</td>\n      <td>36396</td>\n    </tr>\n    <tr>\n      <th>3</th>\n      <td>36000</td>\n      <td>36408</td>\n      <td>36397</td>\n    </tr>\n    <tr>\n      <th>4</th>\n      <td>36001</td>\n      <td>36405</td>\n      <td>36398</td>\n    </tr>\n  </tbody>\n</table>\n</div>"
     },
     "execution_count": 218,
     "metadata": {},
     "output_type": "execute_result"
    }
   ],
   "source": [
    "organizes.head()"
   ],
   "metadata": {
    "collapsed": false,
    "ExecuteTime": {
     "end_time": "2024-05-26T16:11:45.102564Z",
     "start_time": "2024-05-26T16:11:45.089752Z"
    }
   },
   "id": "bc9c40f40e2b52d1",
   "execution_count": 218
  },
  {
   "cell_type": "code",
   "outputs": [
    {
     "data": {
      "text/plain": "   Paper_ID                                              title  \\\n0      6514  Interactive Support for Non-Programmers: The R...   \n1      6515  Common Subexpression Identification in General...   \n2      6516  The Capabilities of Relational Database Manage...   \n3      6517  Principles of Distributed Object Database Lang...   \n4      6518  Relational Completeness of Data Base Sublangua...   \n\n                  author  id  \n0  C. J. Date|E. F. Codd  r2  \n1     Patrick A. V. Hall   3  \n2             E. F. Codd   4  \n3          Markus Tresch   5  \n4             E. F. Codd   6  ",
      "text/html": "<div>\n<style scoped>\n    .dataframe tbody tr th:only-of-type {\n        vertical-align: middle;\n    }\n\n    .dataframe tbody tr th {\n        vertical-align: top;\n    }\n\n    .dataframe thead th {\n        text-align: right;\n    }\n</style>\n<table border=\"1\" class=\"dataframe\">\n  <thead>\n    <tr style=\"text-align: right;\">\n      <th></th>\n      <th>Paper_ID</th>\n      <th>title</th>\n      <th>author</th>\n      <th>id</th>\n    </tr>\n  </thead>\n  <tbody>\n    <tr>\n      <th>0</th>\n      <td>6514</td>\n      <td>Interactive Support for Non-Programmers: The R...</td>\n      <td>C. J. Date|E. F. Codd</td>\n      <td>r2</td>\n    </tr>\n    <tr>\n      <th>1</th>\n      <td>6515</td>\n      <td>Common Subexpression Identification in General...</td>\n      <td>Patrick A. V. Hall</td>\n      <td>3</td>\n    </tr>\n    <tr>\n      <th>2</th>\n      <td>6516</td>\n      <td>The Capabilities of Relational Database Manage...</td>\n      <td>E. F. Codd</td>\n      <td>4</td>\n    </tr>\n    <tr>\n      <th>3</th>\n      <td>6517</td>\n      <td>Principles of Distributed Object Database Lang...</td>\n      <td>Markus Tresch</td>\n      <td>5</td>\n    </tr>\n    <tr>\n      <th>4</th>\n      <td>6518</td>\n      <td>Relational Completeness of Data Base Sublangua...</td>\n      <td>E. F. Codd</td>\n      <td>6</td>\n    </tr>\n  </tbody>\n</table>\n</div>"
     },
     "execution_count": 219,
     "metadata": {},
     "output_type": "execute_result"
    }
   ],
   "source": [
    "papers.head()"
   ],
   "metadata": {
    "collapsed": false,
    "ExecuteTime": {
     "end_time": "2024-05-26T16:11:45.120657Z",
     "start_time": "2024-05-26T16:11:45.107003Z"
    }
   },
   "id": "852f3753392f7173",
   "execution_count": 219
  },
  {
   "cell_type": "code",
   "outputs": [
    {
     "data": {
      "text/plain": "   PRESENTED_AT_ID  Paper_ID  Edition_ID\n0            34973     11670       36394\n1            34974     11671       36395\n2            34975     11672       36396\n3            34976     11673       36397\n4            34977     11674       36398",
      "text/html": "<div>\n<style scoped>\n    .dataframe tbody tr th:only-of-type {\n        vertical-align: middle;\n    }\n\n    .dataframe tbody tr th {\n        vertical-align: top;\n    }\n\n    .dataframe thead th {\n        text-align: right;\n    }\n</style>\n<table border=\"1\" class=\"dataframe\">\n  <thead>\n    <tr style=\"text-align: right;\">\n      <th></th>\n      <th>PRESENTED_AT_ID</th>\n      <th>Paper_ID</th>\n      <th>Edition_ID</th>\n    </tr>\n  </thead>\n  <tbody>\n    <tr>\n      <th>0</th>\n      <td>34973</td>\n      <td>11670</td>\n      <td>36394</td>\n    </tr>\n    <tr>\n      <th>1</th>\n      <td>34974</td>\n      <td>11671</td>\n      <td>36395</td>\n    </tr>\n    <tr>\n      <th>2</th>\n      <td>34975</td>\n      <td>11672</td>\n      <td>36396</td>\n    </tr>\n    <tr>\n      <th>3</th>\n      <td>34976</td>\n      <td>11673</td>\n      <td>36397</td>\n    </tr>\n    <tr>\n      <th>4</th>\n      <td>34977</td>\n      <td>11674</td>\n      <td>36398</td>\n    </tr>\n  </tbody>\n</table>\n</div>"
     },
     "execution_count": 220,
     "metadata": {},
     "output_type": "execute_result"
    }
   ],
   "source": [
    "PRESENTED_AT.head()"
   ],
   "metadata": {
    "collapsed": false,
    "ExecuteTime": {
     "end_time": "2024-05-26T16:11:45.388491Z",
     "start_time": "2024-05-26T16:11:45.371421Z"
    }
   },
   "id": "37825b84101e5326",
   "execution_count": 220
  },
  {
   "cell_type": "code",
   "outputs": [
    {
     "data": {
      "text/plain": "   PUBLISHED_IN_ID  Paper_ID  Volume_ID\n0               69      6514      11519\n1               70      6516      11520\n2               71      6519      11521\n3               72      6520      11522\n4               73      6521      11523",
      "text/html": "<div>\n<style scoped>\n    .dataframe tbody tr th:only-of-type {\n        vertical-align: middle;\n    }\n\n    .dataframe tbody tr th {\n        vertical-align: top;\n    }\n\n    .dataframe thead th {\n        text-align: right;\n    }\n</style>\n<table border=\"1\" class=\"dataframe\">\n  <thead>\n    <tr style=\"text-align: right;\">\n      <th></th>\n      <th>PUBLISHED_IN_ID</th>\n      <th>Paper_ID</th>\n      <th>Volume_ID</th>\n    </tr>\n  </thead>\n  <tbody>\n    <tr>\n      <th>0</th>\n      <td>69</td>\n      <td>6514</td>\n      <td>11519</td>\n    </tr>\n    <tr>\n      <th>1</th>\n      <td>70</td>\n      <td>6516</td>\n      <td>11520</td>\n    </tr>\n    <tr>\n      <th>2</th>\n      <td>71</td>\n      <td>6519</td>\n      <td>11521</td>\n    </tr>\n    <tr>\n      <th>3</th>\n      <td>72</td>\n      <td>6520</td>\n      <td>11522</td>\n    </tr>\n    <tr>\n      <th>4</th>\n      <td>73</td>\n      <td>6521</td>\n      <td>11523</td>\n    </tr>\n  </tbody>\n</table>\n</div>"
     },
     "execution_count": 221,
     "metadata": {},
     "output_type": "execute_result"
    }
   ],
   "source": [
    "PUBLISHED_IN.head()"
   ],
   "metadata": {
    "collapsed": false,
    "ExecuteTime": {
     "end_time": "2024-05-26T16:11:46.405672Z",
     "start_time": "2024-05-26T16:11:46.352217Z"
    }
   },
   "id": "8be40ac17f2ae3ae",
   "execution_count": 221
  },
  {
   "cell_type": "code",
   "outputs": [
    {
     "data": {
      "text/plain": "   REVIEWED_ID  Author_ID  Paper_ID\n0       527824      18628      6514\n1       527825      26214      6514\n2       527826      17420      6514\n3       527827      30713      6515\n4       527828      18460      6515",
      "text/html": "<div>\n<style scoped>\n    .dataframe tbody tr th:only-of-type {\n        vertical-align: middle;\n    }\n\n    .dataframe tbody tr th {\n        vertical-align: top;\n    }\n\n    .dataframe thead th {\n        text-align: right;\n    }\n</style>\n<table border=\"1\" class=\"dataframe\">\n  <thead>\n    <tr style=\"text-align: right;\">\n      <th></th>\n      <th>REVIEWED_ID</th>\n      <th>Author_ID</th>\n      <th>Paper_ID</th>\n    </tr>\n  </thead>\n  <tbody>\n    <tr>\n      <th>0</th>\n      <td>527824</td>\n      <td>18628</td>\n      <td>6514</td>\n    </tr>\n    <tr>\n      <th>1</th>\n      <td>527825</td>\n      <td>26214</td>\n      <td>6514</td>\n    </tr>\n    <tr>\n      <th>2</th>\n      <td>527826</td>\n      <td>17420</td>\n      <td>6514</td>\n    </tr>\n    <tr>\n      <th>3</th>\n      <td>527827</td>\n      <td>30713</td>\n      <td>6515</td>\n    </tr>\n    <tr>\n      <th>4</th>\n      <td>527828</td>\n      <td>18460</td>\n      <td>6515</td>\n    </tr>\n  </tbody>\n</table>\n</div>"
     },
     "execution_count": 222,
     "metadata": {},
     "output_type": "execute_result"
    }
   ],
   "source": [
    "REVIEWED.head()"
   ],
   "metadata": {
    "collapsed": false,
    "ExecuteTime": {
     "end_time": "2024-05-26T16:11:47.653024Z",
     "start_time": "2024-05-26T16:11:47.635198Z"
    }
   },
   "id": "c3812459a53ca04b",
   "execution_count": 222
  },
  {
   "cell_type": "code",
   "outputs": [
    {
     "data": {
      "text/plain": "   University_ID                            name\n0              0         University of East John\n1              6         University of Shawnport\n2              7    University of New Brookestad\n3              9  University of West Markborough\n4             10         University of East Adam",
      "text/html": "<div>\n<style scoped>\n    .dataframe tbody tr th:only-of-type {\n        vertical-align: middle;\n    }\n\n    .dataframe tbody tr th {\n        vertical-align: top;\n    }\n\n    .dataframe thead th {\n        text-align: right;\n    }\n</style>\n<table border=\"1\" class=\"dataframe\">\n  <thead>\n    <tr style=\"text-align: right;\">\n      <th></th>\n      <th>University_ID</th>\n      <th>name</th>\n    </tr>\n  </thead>\n  <tbody>\n    <tr>\n      <th>0</th>\n      <td>0</td>\n      <td>University of East John</td>\n    </tr>\n    <tr>\n      <th>1</th>\n      <td>6</td>\n      <td>University of Shawnport</td>\n    </tr>\n    <tr>\n      <th>2</th>\n      <td>7</td>\n      <td>University of New Brookestad</td>\n    </tr>\n    <tr>\n      <th>3</th>\n      <td>9</td>\n      <td>University of West Markborough</td>\n    </tr>\n    <tr>\n      <th>4</th>\n      <td>10</td>\n      <td>University of East Adam</td>\n    </tr>\n  </tbody>\n</table>\n</div>"
     },
     "execution_count": 223,
     "metadata": {},
     "output_type": "execute_result"
    }
   ],
   "source": [
    "universities.head()"
   ],
   "metadata": {
    "collapsed": false,
    "ExecuteTime": {
     "end_time": "2024-05-26T16:11:48.125830Z",
     "start_time": "2024-05-26T16:11:48.084307Z"
    }
   },
   "id": "b28d16db950b1c62",
   "execution_count": 223
  },
  {
   "cell_type": "code",
   "outputs": [
    {
     "data": {
      "text/plain": "   Volume_ID    name    year                                journalName\n0      11519  RJ1400  1974.0  IBM Research Report, San Jose, California\n1      11520  RJ3132  1981.0  IBM Research Report, San Jose, California\n2      11521   RJ909  1971.0  IBM Research Report, San Jose, California\n3      11522   RJ893  1971.0  IBM Research Report, San Jose, California\n4      11523   RJ599  1969.0  IBM Research Report, San Jose, California",
      "text/html": "<div>\n<style scoped>\n    .dataframe tbody tr th:only-of-type {\n        vertical-align: middle;\n    }\n\n    .dataframe tbody tr th {\n        vertical-align: top;\n    }\n\n    .dataframe thead th {\n        text-align: right;\n    }\n</style>\n<table border=\"1\" class=\"dataframe\">\n  <thead>\n    <tr style=\"text-align: right;\">\n      <th></th>\n      <th>Volume_ID</th>\n      <th>name</th>\n      <th>year</th>\n      <th>journalName</th>\n    </tr>\n  </thead>\n  <tbody>\n    <tr>\n      <th>0</th>\n      <td>11519</td>\n      <td>RJ1400</td>\n      <td>1974.0</td>\n      <td>IBM Research Report, San Jose, California</td>\n    </tr>\n    <tr>\n      <th>1</th>\n      <td>11520</td>\n      <td>RJ3132</td>\n      <td>1981.0</td>\n      <td>IBM Research Report, San Jose, California</td>\n    </tr>\n    <tr>\n      <th>2</th>\n      <td>11521</td>\n      <td>RJ909</td>\n      <td>1971.0</td>\n      <td>IBM Research Report, San Jose, California</td>\n    </tr>\n    <tr>\n      <th>3</th>\n      <td>11522</td>\n      <td>RJ893</td>\n      <td>1971.0</td>\n      <td>IBM Research Report, San Jose, California</td>\n    </tr>\n    <tr>\n      <th>4</th>\n      <td>11523</td>\n      <td>RJ599</td>\n      <td>1969.0</td>\n      <td>IBM Research Report, San Jose, California</td>\n    </tr>\n  </tbody>\n</table>\n</div>"
     },
     "execution_count": 224,
     "metadata": {},
     "output_type": "execute_result"
    }
   ],
   "source": [
    "volumes.head()"
   ],
   "metadata": {
    "collapsed": false,
    "ExecuteTime": {
     "end_time": "2024-05-26T16:11:48.639062Z",
     "start_time": "2024-05-26T16:11:48.612726Z"
    }
   },
   "id": "543ef8b6fe51182",
   "execution_count": 224
  },
  {
   "cell_type": "markdown",
   "source": [
    "## Data preparation\n",
    "To prepare the data we must:\n",
    "- Add Journal ID to volume.csv (only contains volume name currently)\n",
    "- Add ConfWork ID to Edition.csv (only contains volume name currently)\n",
    "\n",
    "These steps are not necessary, since the information is in other .csv files, however by incorporating the right information in these .csv files, we can save time by reading fewer files."
   ],
   "metadata": {
    "collapsed": false
   },
   "id": "2651550f4793976e"
  },
  {
   "cell_type": "code",
   "outputs": [
    {
     "data": {
      "text/plain": "   Volume_ID    name    year                                journalName  \\\n0      11519  RJ1400  1974.0  IBM Research Report, San Jose, California   \n1      11520  RJ3132  1981.0  IBM Research Report, San Jose, California   \n2      11521   RJ909  1971.0  IBM Research Report, San Jose, California   \n3      11522   RJ893  1971.0  IBM Research Report, San Jose, California   \n4      11523   RJ599  1969.0  IBM Research Report, San Jose, California   \n\n   Journal_ID  \n0       11514  \n1       11514  \n2       11514  \n3       11514  \n4       11514  ",
      "text/html": "<div>\n<style scoped>\n    .dataframe tbody tr th:only-of-type {\n        vertical-align: middle;\n    }\n\n    .dataframe tbody tr th {\n        vertical-align: top;\n    }\n\n    .dataframe thead th {\n        text-align: right;\n    }\n</style>\n<table border=\"1\" class=\"dataframe\">\n  <thead>\n    <tr style=\"text-align: right;\">\n      <th></th>\n      <th>Volume_ID</th>\n      <th>name</th>\n      <th>year</th>\n      <th>journalName</th>\n      <th>Journal_ID</th>\n    </tr>\n  </thead>\n  <tbody>\n    <tr>\n      <th>0</th>\n      <td>11519</td>\n      <td>RJ1400</td>\n      <td>1974.0</td>\n      <td>IBM Research Report, San Jose, California</td>\n      <td>11514</td>\n    </tr>\n    <tr>\n      <th>1</th>\n      <td>11520</td>\n      <td>RJ3132</td>\n      <td>1981.0</td>\n      <td>IBM Research Report, San Jose, California</td>\n      <td>11514</td>\n    </tr>\n    <tr>\n      <th>2</th>\n      <td>11521</td>\n      <td>RJ909</td>\n      <td>1971.0</td>\n      <td>IBM Research Report, San Jose, California</td>\n      <td>11514</td>\n    </tr>\n    <tr>\n      <th>3</th>\n      <td>11522</td>\n      <td>RJ893</td>\n      <td>1971.0</td>\n      <td>IBM Research Report, San Jose, California</td>\n      <td>11514</td>\n    </tr>\n    <tr>\n      <th>4</th>\n      <td>11523</td>\n      <td>RJ599</td>\n      <td>1969.0</td>\n      <td>IBM Research Report, San Jose, California</td>\n      <td>11514</td>\n    </tr>\n  </tbody>\n</table>\n</div>"
     },
     "execution_count": 225,
     "metadata": {},
     "output_type": "execute_result"
    }
   ],
   "source": [
    "volumes = pd.merge(volumes, journals, left_on='journalName', right_on='name', how='inner').rename(columns={'name_x':'name'}).drop(columns='name_y')\n",
    "volumes.head()"
   ],
   "metadata": {
    "collapsed": false,
    "ExecuteTime": {
     "end_time": "2024-05-26T16:11:49.070517Z",
     "start_time": "2024-05-26T16:11:48.989133Z"
    }
   },
   "id": "3aeda5fb3f658c14",
   "execution_count": 225
  },
  {
   "cell_type": "code",
   "outputs": [
    {
     "data": {
      "text/plain": "   Edition_ID  year  Conference_ID\n0       36394  2011          36405\n1       36395  2012          36406\n2       36396  2011          36407\n3       36397  2012          36408\n4       36398  2012          36405",
      "text/html": "<div>\n<style scoped>\n    .dataframe tbody tr th:only-of-type {\n        vertical-align: middle;\n    }\n\n    .dataframe tbody tr th {\n        vertical-align: top;\n    }\n\n    .dataframe thead th {\n        text-align: right;\n    }\n</style>\n<table border=\"1\" class=\"dataframe\">\n  <thead>\n    <tr style=\"text-align: right;\">\n      <th></th>\n      <th>Edition_ID</th>\n      <th>year</th>\n      <th>Conference_ID</th>\n    </tr>\n  </thead>\n  <tbody>\n    <tr>\n      <th>0</th>\n      <td>36394</td>\n      <td>2011</td>\n      <td>36405</td>\n    </tr>\n    <tr>\n      <th>1</th>\n      <td>36395</td>\n      <td>2012</td>\n      <td>36406</td>\n    </tr>\n    <tr>\n      <th>2</th>\n      <td>36396</td>\n      <td>2011</td>\n      <td>36407</td>\n    </tr>\n    <tr>\n      <th>3</th>\n      <td>36397</td>\n      <td>2012</td>\n      <td>36408</td>\n    </tr>\n    <tr>\n      <th>4</th>\n      <td>36398</td>\n      <td>2012</td>\n      <td>36405</td>\n    </tr>\n  </tbody>\n</table>\n</div>"
     },
     "execution_count": 226,
     "metadata": {},
     "output_type": "execute_result"
    }
   ],
   "source": [
    "editions = pd.merge(editions, conferences, left_on='conference', right_on='name', how='inner').rename(columns={'name_x':'name'}).drop(columns=['conference', 'name'])\n",
    "editions.head()"
   ],
   "metadata": {
    "collapsed": false,
    "ExecuteTime": {
     "end_time": "2024-05-26T16:11:49.379289Z",
     "start_time": "2024-05-26T16:11:49.348718Z"
    }
   },
   "id": "accacc618eae49f7",
   "execution_count": 226
  },
  {
   "cell_type": "markdown",
   "source": [
    "## Data augmentation\n",
    "The data provided does not include some aspects that are mentioned in Section *B.1. TBOX definition* of the project statement. The missing aspects are:\n",
    "- Corresponding author\n",
    "- Review text\n",
    "- Abstract\n",
    "- Relevant author\n",
    "- Topics (groupings of keywords)\n",
    "- City (of editions)\n",
    "- Change keywords randomly\n",
    "- Related ConfWork/Journals to topics randomly\n",
    "\n",
    "We shall add these aspects to the data, prior to insertion to GraphDB.\n",
    "N.B. Run commented lines only once"
   ],
   "metadata": {
    "collapsed": false
   },
   "id": "7ba8af8497a80f83"
  },
  {
   "cell_type": "markdown",
   "source": [],
   "metadata": {
    "collapsed": false
   },
   "id": "5cd42d8cce68c708"
  },
  {
   "cell_type": "markdown",
   "source": [
    "### Corresponding author"
   ],
   "metadata": {
    "collapsed": false
   },
   "id": "6f57ac652fe979b8"
  },
  {
   "cell_type": "code",
   "outputs": [
    {
     "data": {
      "text/plain": "   Paper_ID                                              title  \\\n0      6514  Interactive Support for Non-Programmers: The R...   \n1      6515  Common Subexpression Identification in General...   \n2      6516  The Capabilities of Relational Database Manage...   \n3      6517  Principles of Distributed Object Database Lang...   \n4      6518  Relational Completeness of Data Base Sublangua...   \n\n                  author  id corresponding_author  Author_ID  \n0  C. J. Date|E. F. Codd  r2           C. J. Date      16588  \n1     Patrick A. V. Hall   3   Patrick A. V. Hall      16590  \n2             E. F. Codd   4           E. F. Codd      16589  \n3          Markus Tresch   5        Markus Tresch      16591  \n4             E. F. Codd   6           E. F. Codd      16589  ",
      "text/html": "<div>\n<style scoped>\n    .dataframe tbody tr th:only-of-type {\n        vertical-align: middle;\n    }\n\n    .dataframe tbody tr th {\n        vertical-align: top;\n    }\n\n    .dataframe thead th {\n        text-align: right;\n    }\n</style>\n<table border=\"1\" class=\"dataframe\">\n  <thead>\n    <tr style=\"text-align: right;\">\n      <th></th>\n      <th>Paper_ID</th>\n      <th>title</th>\n      <th>author</th>\n      <th>id</th>\n      <th>corresponding_author</th>\n      <th>Author_ID</th>\n    </tr>\n  </thead>\n  <tbody>\n    <tr>\n      <th>0</th>\n      <td>6514</td>\n      <td>Interactive Support for Non-Programmers: The R...</td>\n      <td>C. J. Date|E. F. Codd</td>\n      <td>r2</td>\n      <td>C. J. Date</td>\n      <td>16588</td>\n    </tr>\n    <tr>\n      <th>1</th>\n      <td>6515</td>\n      <td>Common Subexpression Identification in General...</td>\n      <td>Patrick A. V. Hall</td>\n      <td>3</td>\n      <td>Patrick A. V. Hall</td>\n      <td>16590</td>\n    </tr>\n    <tr>\n      <th>2</th>\n      <td>6516</td>\n      <td>The Capabilities of Relational Database Manage...</td>\n      <td>E. F. Codd</td>\n      <td>4</td>\n      <td>E. F. Codd</td>\n      <td>16589</td>\n    </tr>\n    <tr>\n      <th>3</th>\n      <td>6517</td>\n      <td>Principles of Distributed Object Database Lang...</td>\n      <td>Markus Tresch</td>\n      <td>5</td>\n      <td>Markus Tresch</td>\n      <td>16591</td>\n    </tr>\n    <tr>\n      <th>4</th>\n      <td>6518</td>\n      <td>Relational Completeness of Data Base Sublangua...</td>\n      <td>E. F. Codd</td>\n      <td>6</td>\n      <td>E. F. Codd</td>\n      <td>16589</td>\n    </tr>\n  </tbody>\n</table>\n</div>"
     },
     "execution_count": 227,
     "metadata": {},
     "output_type": "execute_result"
    }
   ],
   "source": [
    "papers['corresponding_author'] = papers['author'].str.split('|').str[0]\n",
    "#papers = pd.merge(papers, authors, left_on='corresponding_author', right_on='name', how='inner').drop(columns='name')\n",
    "papers.head()"
   ],
   "metadata": {
    "collapsed": false,
    "ExecuteTime": {
     "end_time": "2024-05-26T16:11:49.869534Z",
     "start_time": "2024-05-26T16:11:49.744747Z"
    }
   },
   "id": "77e260cc5bd4a649",
   "execution_count": 227
  },
  {
   "cell_type": "markdown",
   "source": [
    "### Review text"
   ],
   "metadata": {
    "collapsed": false
   },
   "id": "3deaf81a7d11b420"
  },
  {
   "cell_type": "code",
   "outputs": [
    {
     "data": {
      "text/plain": "   REVIEWED_ID  Author_ID  Paper_ID            review_text\n0       527824      18628      6514  inadequate references\n1       527825      26214      6514                concise\n2       527826      17420      6514           poor quality\n3       527827      30713      6515           weak results\n4       527828      18460      6515     contradictory data",
      "text/html": "<div>\n<style scoped>\n    .dataframe tbody tr th:only-of-type {\n        vertical-align: middle;\n    }\n\n    .dataframe tbody tr th {\n        vertical-align: top;\n    }\n\n    .dataframe thead th {\n        text-align: right;\n    }\n</style>\n<table border=\"1\" class=\"dataframe\">\n  <thead>\n    <tr style=\"text-align: right;\">\n      <th></th>\n      <th>REVIEWED_ID</th>\n      <th>Author_ID</th>\n      <th>Paper_ID</th>\n      <th>review_text</th>\n    </tr>\n  </thead>\n  <tbody>\n    <tr>\n      <th>0</th>\n      <td>527824</td>\n      <td>18628</td>\n      <td>6514</td>\n      <td>inadequate references</td>\n    </tr>\n    <tr>\n      <th>1</th>\n      <td>527825</td>\n      <td>26214</td>\n      <td>6514</td>\n      <td>concise</td>\n    </tr>\n    <tr>\n      <th>2</th>\n      <td>527826</td>\n      <td>17420</td>\n      <td>6514</td>\n      <td>poor quality</td>\n    </tr>\n    <tr>\n      <th>3</th>\n      <td>527827</td>\n      <td>30713</td>\n      <td>6515</td>\n      <td>weak results</td>\n    </tr>\n    <tr>\n      <th>4</th>\n      <td>527828</td>\n      <td>18460</td>\n      <td>6515</td>\n      <td>contradictory data</td>\n    </tr>\n  </tbody>\n</table>\n</div>"
     },
     "execution_count": 228,
     "metadata": {},
     "output_type": "execute_result"
    }
   ],
   "source": [
    "reviews = [\n",
    "    'clear', 'well-structured', 'unclear', 'confusing', 'innovative', 'original', 'lacks originality', 'uninspired', 'rigorous', 'well-designed experiments', 'flawed methodology', 'inadequate sample size', 'strong results', 'significant findings', 'weak results', 'contradictory data', 'insightful discussion', 'addresses research questions', 'superficial discussion', 'fails to address key questions', 'adequate references', 'relevant citations', 'inadequate references', 'missing citations', 'engaging', 'concise', 'poorly written', 'wordy', 'limitations are acknowledged', 'weaknesses are discussed', 'major limitations are ignored', 'lack of suggestions for improvement', 'ethical issues are addressed', 'research integrity is maintained', 'ethical concerns are overlooked', 'lack of transparency', 'high-quality', 'impactful', 'poor quality', 'not suitable for publication'\n",
    "]\n",
    "#REVIEWED['review_text'] = [random.choice(reviews) for i in range(len(REVIEWED))]\n",
    "REVIEWED.head()"
   ],
   "metadata": {
    "collapsed": false,
    "ExecuteTime": {
     "end_time": "2024-05-26T16:11:50.234164Z",
     "start_time": "2024-05-26T16:11:50.149852Z"
    }
   },
   "id": "7c4b6cf15a072e08",
   "execution_count": 228
  },
  {
   "cell_type": "markdown",
   "source": [
    "### Abstract"
   ],
   "metadata": {
    "collapsed": false
   },
   "id": "883ad7a16c31afa8"
  },
  {
   "cell_type": "code",
   "outputs": [
    {
     "data": {
      "text/plain": "   Paper_ID                                              title  \\\n0      6514  Interactive Support for Non-Programmers: The R...   \n1      6515  Common Subexpression Identification in General...   \n2      6516  The Capabilities of Relational Database Manage...   \n3      6517  Principles of Distributed Object Database Lang...   \n4      6518  Relational Completeness of Data Base Sublangua...   \n\n                  author  id corresponding_author  Author_ID  \\\n0  C. J. Date|E. F. Codd  r2           C. J. Date      16588   \n1     Patrick A. V. Hall   3   Patrick A. V. Hall      16590   \n2             E. F. Codd   4           E. F. Codd      16589   \n3          Markus Tresch   5        Markus Tresch      16591   \n4             E. F. Codd   6           E. F. Codd      16589   \n\n                     abstract  \n0       The paper examines...  \n1       The study analyzes...  \n2  This study investigates...  \n3       The study analyzes...  \n4  This study investigates...  ",
      "text/html": "<div>\n<style scoped>\n    .dataframe tbody tr th:only-of-type {\n        vertical-align: middle;\n    }\n\n    .dataframe tbody tr th {\n        vertical-align: top;\n    }\n\n    .dataframe thead th {\n        text-align: right;\n    }\n</style>\n<table border=\"1\" class=\"dataframe\">\n  <thead>\n    <tr style=\"text-align: right;\">\n      <th></th>\n      <th>Paper_ID</th>\n      <th>title</th>\n      <th>author</th>\n      <th>id</th>\n      <th>corresponding_author</th>\n      <th>Author_ID</th>\n      <th>abstract</th>\n    </tr>\n  </thead>\n  <tbody>\n    <tr>\n      <th>0</th>\n      <td>6514</td>\n      <td>Interactive Support for Non-Programmers: The R...</td>\n      <td>C. J. Date|E. F. Codd</td>\n      <td>r2</td>\n      <td>C. J. Date</td>\n      <td>16588</td>\n      <td>The paper examines...</td>\n    </tr>\n    <tr>\n      <th>1</th>\n      <td>6515</td>\n      <td>Common Subexpression Identification in General...</td>\n      <td>Patrick A. V. Hall</td>\n      <td>3</td>\n      <td>Patrick A. V. Hall</td>\n      <td>16590</td>\n      <td>The study analyzes...</td>\n    </tr>\n    <tr>\n      <th>2</th>\n      <td>6516</td>\n      <td>The Capabilities of Relational Database Manage...</td>\n      <td>E. F. Codd</td>\n      <td>4</td>\n      <td>E. F. Codd</td>\n      <td>16589</td>\n      <td>This study investigates...</td>\n    </tr>\n    <tr>\n      <th>3</th>\n      <td>6517</td>\n      <td>Principles of Distributed Object Database Lang...</td>\n      <td>Markus Tresch</td>\n      <td>5</td>\n      <td>Markus Tresch</td>\n      <td>16591</td>\n      <td>The study analyzes...</td>\n    </tr>\n    <tr>\n      <th>4</th>\n      <td>6518</td>\n      <td>Relational Completeness of Data Base Sublangua...</td>\n      <td>E. F. Codd</td>\n      <td>6</td>\n      <td>E. F. Codd</td>\n      <td>16589</td>\n      <td>This study investigates...</td>\n    </tr>\n  </tbody>\n</table>\n</div>"
     },
     "execution_count": 229,
     "metadata": {},
     "output_type": "execute_result"
    }
   ],
   "source": [
    "abstracts = [\n",
    "    'This paper is about...', 'This study investigates...', \n",
    "    'The research aims to explore...', 'The paper examines...',\n",
    "    'This paper presents...', 'The study proposes...', \n",
    "    'The research introduces...', 'The paper discusses...',\n",
    "    'This paper demonstrates...', 'The study illustrates...', \n",
    "    'The research reveals...', 'The paper highlights...',\n",
    "    'This paper addresses...', 'The study analyzes...', \n",
    "    'The research evaluates...', 'The paper compares...'\n",
    "]\n",
    "#papers['abstract'] = [random.choice(abstracts) for i in range(len(papers))]\n",
    "papers.head()"
   ],
   "metadata": {
    "collapsed": false,
    "ExecuteTime": {
     "end_time": "2024-05-26T16:11:50.732728Z",
     "start_time": "2024-05-26T16:11:50.671496Z"
    }
   },
   "id": "1cfc5893f5e0a70b",
   "execution_count": 229
  },
  {
   "cell_type": "markdown",
   "source": [
    "### Relevant author"
   ],
   "metadata": {
    "collapsed": false
   },
   "id": "167880321bf9838b"
  },
  {
   "cell_type": "code",
   "outputs": [
    {
     "data": {
      "text/plain": "   Author_ID  relevantAuthorOf publicationType\n0      18628             36440               c\n1      26214             36466               c\n2      17420             36444               c\n3      30713             36480               c\n4      18460             36444               c",
      "text/html": "<div>\n<style scoped>\n    .dataframe tbody tr th:only-of-type {\n        vertical-align: middle;\n    }\n\n    .dataframe tbody tr th {\n        vertical-align: top;\n    }\n\n    .dataframe thead th {\n        text-align: right;\n    }\n</style>\n<table border=\"1\" class=\"dataframe\">\n  <thead>\n    <tr style=\"text-align: right;\">\n      <th></th>\n      <th>Author_ID</th>\n      <th>relevantAuthorOf</th>\n      <th>publicationType</th>\n    </tr>\n  </thead>\n  <tbody>\n    <tr>\n      <th>0</th>\n      <td>18628</td>\n      <td>36440</td>\n      <td>c</td>\n    </tr>\n    <tr>\n      <th>1</th>\n      <td>26214</td>\n      <td>36466</td>\n      <td>c</td>\n    </tr>\n    <tr>\n      <th>2</th>\n      <td>17420</td>\n      <td>36444</td>\n      <td>c</td>\n    </tr>\n    <tr>\n      <th>3</th>\n      <td>30713</td>\n      <td>36480</td>\n      <td>c</td>\n    </tr>\n    <tr>\n      <th>4</th>\n      <td>18460</td>\n      <td>36444</td>\n      <td>c</td>\n    </tr>\n  </tbody>\n</table>\n</div>"
     },
     "execution_count": 230,
     "metadata": {},
     "output_type": "execute_result"
    }
   ],
   "source": [
    "reviewers = pd.DataFrame(REVIEWED['Author_ID'].unique(), columns=['Author_ID'])\n",
    "publication_dict = {journal:'j' for journal in journals['Journal_ID']}\n",
    "publication_dict.update({conference:'c' for conference in conferences['Conference_ID']})\n",
    "#reviewers['relevantAuthorOf'] = random.choices(list(publication_dict.keys()), k=len(reviewers))\n",
    "reviewers['publicationType'] = [publication_dict[id] for id in reviewers['relevantAuthorOf']]\n",
    "reviewers.head()"
   ],
   "metadata": {
    "collapsed": false,
    "ExecuteTime": {
     "end_time": "2024-05-26T16:11:51.210612Z",
     "start_time": "2024-05-26T16:11:51.162509Z"
    }
   },
   "id": "efdaaa53ca43d2d9",
   "execution_count": 230
  },
  {
   "cell_type": "markdown",
   "source": [
    "### Keywords"
   ],
   "metadata": {
    "collapsed": false
   },
   "id": "8c2718fd744cd763"
  },
  {
   "cell_type": "code",
   "outputs": [
    {
     "data": {
      "text/plain": "   Keyword_ID                          key\n0       36588        computer architecture\n1       36589                fact-checking\n2       36590                         bias\n3       36591              computer vision\n4       36592  natural language processing",
      "text/html": "<div>\n<style scoped>\n    .dataframe tbody tr th:only-of-type {\n        vertical-align: middle;\n    }\n\n    .dataframe tbody tr th {\n        vertical-align: top;\n    }\n\n    .dataframe thead th {\n        text-align: right;\n    }\n</style>\n<table border=\"1\" class=\"dataframe\">\n  <thead>\n    <tr style=\"text-align: right;\">\n      <th></th>\n      <th>Keyword_ID</th>\n      <th>key</th>\n    </tr>\n  </thead>\n  <tbody>\n    <tr>\n      <th>0</th>\n      <td>36588</td>\n      <td>computer architecture</td>\n    </tr>\n    <tr>\n      <th>1</th>\n      <td>36589</td>\n      <td>fact-checking</td>\n    </tr>\n    <tr>\n      <th>2</th>\n      <td>36590</td>\n      <td>bias</td>\n    </tr>\n    <tr>\n      <th>3</th>\n      <td>36591</td>\n      <td>computer vision</td>\n    </tr>\n    <tr>\n      <th>4</th>\n      <td>36592</td>\n      <td>natural language processing</td>\n    </tr>\n  </tbody>\n</table>\n</div>"
     },
     "execution_count": 231,
     "metadata": {},
     "output_type": "execute_result"
    }
   ],
   "source": [
    "words = [\"data management\", \"indexing\", \"data modeling\", \"big data\", \"data processing\", \"data storage\",\n",
    "         \"data querying\", \"artificial intelligence\", \"machine learning\", \"neural networks\",\n",
    "         \"deep learning\", \"computer vision\", \"natural language processing\", \"computer science\",\n",
    "         \"computer\", \"algorithms\", \"theory of computation\", \"networks\", \"computer architecture\",\n",
    "         \"privacy\", \"security\", \"surveillance\", \"bias\", \"disinformation\", \"misinformation\",\n",
    "         \"data analysis\", \"data visualization\", \"data governance\", \"data mining\", \"data integration\",\n",
    "         \"data quality\", \"data warehousing\", \"cloud computing\", \"edge computing\", \"distributed systems\",\n",
    "         \"Internet of Things (IoT)\", \"blockchain technology\", \"cybersecurity\", \"cryptography\",\n",
    "         \"ethical hacking\", \"digital forensics\", \"risk management\", \"threat intelligence\",\n",
    "         \"biometrics\", \"identity management\", \"authentication\", \"authorization\",\n",
    "         \"user privacy\", \"data breaches\", \"phishing attacks\", \"social engineering\",\n",
    "         \"deepfake technology\", \"content moderation\", \"online reputation management\",\n",
    "         \"fact-checking\", \"fake news detection\", \"media literacy\", \"algorithmic fairness\",\n",
    "         \"explainable AI\", \"robustness\", \"adversarial examples\", \"reinforcement learning\",\n",
    "         \"unsupervised learning\", \"semi-supervised learning\", \"transfer learning\",\n",
    "         \"generative adversarial networks (GANs)\", \"recommender systems\", \"pattern recognition\",\n",
    "         \"computer graphics\", \"virtual reality (VR)\", \"augmented reality (AR)\",\n",
    "         \"mixed reality (MR)\", \"human-computer interaction\", \"user experience design\",\n",
    "         \"information retrieval\", \"web search engines\", \"semantic web\", \"knowledge graphs\",\n",
    "         \"computational linguistics\", \"speech recognition\", \"dialogue systems\",\n",
    "         \"sentiment analysis\", \"text classification\", \"computational complexity\",\n",
    "         \"algorithm analysis\", \"formal languages\", \"automata theory\", \"graph theory\",\n",
    "         \"distributed computing\", \"parallel computing\", \"cloud architecture\", \"scalability\",\n",
    "         \"fault tolerance\", \"interconnection networks\", \"processor design\", \"microarchitecture\",\n",
    "         \"instruction set architecture\", \"embedded systems\", \"quantum computing\",\n",
    "         \"homomorphic encryption\", \"secure multiparty computation\", \"zero-knowledge proofs\",\n",
    "         \"data anonymization\", \"data masking\", \"end-to-end encryption\", \"digital rights management\",\n",
    "         \"surveillance capitalism\", \"mass surveillance\", \"privacy-enhancing technologies\",\n",
    "         \"data ethics\", \"privacy regulations\", \"surveillance regulation\", \"bias mitigation\",\n",
    "         \"media literacy education\", \"critical thinking skills\", \"information hygiene\",\n",
    "         \"rumor control\", \"counter-disinformation strategies\", \"media literacy campaigns\"]\n",
    "#keywords['key'] = random.choices(words, k=len(keywords))\n",
    "keywords.head()"
   ],
   "metadata": {
    "collapsed": false,
    "ExecuteTime": {
     "end_time": "2024-05-26T16:11:51.692070Z",
     "start_time": "2024-05-26T16:11:51.651057Z"
    }
   },
   "id": "2937cf4b8794f12c",
   "execution_count": 231
  },
  {
   "cell_type": "markdown",
   "source": [
    "### Topics"
   ],
   "metadata": {
    "collapsed": false
   },
   "id": "9659d500d7d19817"
  },
  {
   "cell_type": "code",
   "outputs": [
    {
     "data": {
      "text/plain": "   Keyword_ID                          key              topic  Topic_ID\n0       36588        computer architecture      Cybersecurity         5\n1       36589                fact-checking  Quantum Computing        10\n2       36590                         bias      Cybersecurity         5\n3       36591              computer vision           Database         0\n4       36592  natural language processing      Cybersecurity         5",
      "text/html": "<div>\n<style scoped>\n    .dataframe tbody tr th:only-of-type {\n        vertical-align: middle;\n    }\n\n    .dataframe tbody tr th {\n        vertical-align: top;\n    }\n\n    .dataframe thead th {\n        text-align: right;\n    }\n</style>\n<table border=\"1\" class=\"dataframe\">\n  <thead>\n    <tr style=\"text-align: right;\">\n      <th></th>\n      <th>Keyword_ID</th>\n      <th>key</th>\n      <th>topic</th>\n      <th>Topic_ID</th>\n    </tr>\n  </thead>\n  <tbody>\n    <tr>\n      <th>0</th>\n      <td>36588</td>\n      <td>computer architecture</td>\n      <td>Cybersecurity</td>\n      <td>5</td>\n    </tr>\n    <tr>\n      <th>1</th>\n      <td>36589</td>\n      <td>fact-checking</td>\n      <td>Quantum Computing</td>\n      <td>10</td>\n    </tr>\n    <tr>\n      <th>2</th>\n      <td>36590</td>\n      <td>bias</td>\n      <td>Cybersecurity</td>\n      <td>5</td>\n    </tr>\n    <tr>\n      <th>3</th>\n      <td>36591</td>\n      <td>computer vision</td>\n      <td>Database</td>\n      <td>0</td>\n    </tr>\n    <tr>\n      <th>4</th>\n      <td>36592</td>\n      <td>natural language processing</td>\n      <td>Cybersecurity</td>\n      <td>5</td>\n    </tr>\n  </tbody>\n</table>\n</div>"
     },
     "execution_count": 232,
     "metadata": {},
     "output_type": "execute_result"
    }
   ],
   "source": [
    "topics = {\"Database\": 0,\n",
    "          \"Artificial Intelligence\": 1,\n",
    "          \"Computer Science\": 2,\n",
    "          \"Ethics\": 3,\n",
    "          \"Data Science\": 4,\n",
    "          \"Cybersecurity\": 5,\n",
    "          \"Machine Learning\": 6,\n",
    "          \"Blockchain\": 7,\n",
    "          \"Cloud Computing\": 8,\n",
    "          \"Internet of Things\": 9,\n",
    "          \"Quantum Computing\": 10}\n",
    "#keywords['topic'] = random.choices(list(topics.keys()), k=len(keywords))\n",
    "#keywords['Topic_ID'] = [topics[topic] for topic in keywords['topic']]\n",
    "keywords.head()"
   ],
   "metadata": {
    "collapsed": false,
    "ExecuteTime": {
     "end_time": "2024-05-26T16:11:52.052899Z",
     "start_time": "2024-05-26T16:11:52.022646Z"
    }
   },
   "id": "71bed28a9f5a004d",
   "execution_count": 232
  },
  {
   "cell_type": "markdown",
   "source": [
    "### ConfWork/Journals\n",
    "Randomly assigning topics/communities to confworks and journals"
   ],
   "metadata": {
    "collapsed": false
   },
   "id": "c8bb49dd3ca47853"
  },
  {
   "cell_type": "code",
   "outputs": [
    {
     "data": {
      "text/plain": "   Journal_ID                                               name  \\\n0       11514          IBM Research Report, San Jose, California   \n1       11515                Hydrology and Earth System Sciences   \n2       11516  Foundations and Trends in Communications and I...   \n3       11517                                     ACM Crossroads   \n4       11518            IEEE T. Instrumentation and Measurement   \n\n                topic  Topic_ID  \n0    Machine Learning         6  \n1    Computer Science         2  \n2  Internet of Things         9  \n3          Blockchain         7  \n4     Cloud Computing         8  ",
      "text/html": "<div>\n<style scoped>\n    .dataframe tbody tr th:only-of-type {\n        vertical-align: middle;\n    }\n\n    .dataframe tbody tr th {\n        vertical-align: top;\n    }\n\n    .dataframe thead th {\n        text-align: right;\n    }\n</style>\n<table border=\"1\" class=\"dataframe\">\n  <thead>\n    <tr style=\"text-align: right;\">\n      <th></th>\n      <th>Journal_ID</th>\n      <th>name</th>\n      <th>topic</th>\n      <th>Topic_ID</th>\n    </tr>\n  </thead>\n  <tbody>\n    <tr>\n      <th>0</th>\n      <td>11514</td>\n      <td>IBM Research Report, San Jose, California</td>\n      <td>Machine Learning</td>\n      <td>6</td>\n    </tr>\n    <tr>\n      <th>1</th>\n      <td>11515</td>\n      <td>Hydrology and Earth System Sciences</td>\n      <td>Computer Science</td>\n      <td>2</td>\n    </tr>\n    <tr>\n      <th>2</th>\n      <td>11516</td>\n      <td>Foundations and Trends in Communications and I...</td>\n      <td>Internet of Things</td>\n      <td>9</td>\n    </tr>\n    <tr>\n      <th>3</th>\n      <td>11517</td>\n      <td>ACM Crossroads</td>\n      <td>Blockchain</td>\n      <td>7</td>\n    </tr>\n    <tr>\n      <th>4</th>\n      <td>11518</td>\n      <td>IEEE T. Instrumentation and Measurement</td>\n      <td>Cloud Computing</td>\n      <td>8</td>\n    </tr>\n  </tbody>\n</table>\n</div>"
     },
     "execution_count": 233,
     "metadata": {},
     "output_type": "execute_result"
    }
   ],
   "source": [
    "#journals['topic'] = random.choices(list(topics.keys()), k=len(journals))\n",
    "#journals['Topic_ID'] = [topics[topic] for topic in journals['topic']]\n",
    "journals.head()"
   ],
   "metadata": {
    "collapsed": false,
    "ExecuteTime": {
     "end_time": "2024-05-26T16:11:52.498760Z",
     "start_time": "2024-05-26T16:11:52.469162Z"
    }
   },
   "id": "5ab6abd27acbf853",
   "execution_count": 233
  },
  {
   "cell_type": "code",
   "outputs": [
    {
     "data": {
      "text/plain": "    Conference_ID            name                    topic  Topic_ID\n0           36405             ant               Blockchain         7\n1           36406            cser          Cloud Computing         8\n2           36407            iccS          Cloud Computing         8\n3           36408         vsgames             Data Science         4\n4           36409  complexsystems       Internet of Things         9\n5           36410            dsai               Blockchain         7\n6           36436         aistats                 Database         0\n7           36437            nips          Cloud Computing         8\n8           36438            colt            Cybersecurity         5\n9           36439            pkdd            Cybersecurity         5\n10          36440           pakdd          Cloud Computing         8\n11          36441            acml               Blockchain         7\n12          36442            icml        Quantum Computing        10\n13          36443            icgi            Cybersecurity         5\n14          36444            wapa  Artificial Intelligence         1\n15          36445            wcci                 Database         0\n16          36446             kdd        Quantum Computing        10\n17          36447            mlsb          Cloud Computing         8\n18          36465         sigsand  Artificial Intelligence         1\n19          36466         wopplot         Machine Learning         6\n20          36467            aldt                 Database         0\n21          36468          ecrime                 Database         0\n22          36469          asiams  Artificial Intelligence         1\n23          36480         ACMicec  Artificial Intelligence         1",
      "text/html": "<div>\n<style scoped>\n    .dataframe tbody tr th:only-of-type {\n        vertical-align: middle;\n    }\n\n    .dataframe tbody tr th {\n        vertical-align: top;\n    }\n\n    .dataframe thead th {\n        text-align: right;\n    }\n</style>\n<table border=\"1\" class=\"dataframe\">\n  <thead>\n    <tr style=\"text-align: right;\">\n      <th></th>\n      <th>Conference_ID</th>\n      <th>name</th>\n      <th>topic</th>\n      <th>Topic_ID</th>\n    </tr>\n  </thead>\n  <tbody>\n    <tr>\n      <th>0</th>\n      <td>36405</td>\n      <td>ant</td>\n      <td>Blockchain</td>\n      <td>7</td>\n    </tr>\n    <tr>\n      <th>1</th>\n      <td>36406</td>\n      <td>cser</td>\n      <td>Cloud Computing</td>\n      <td>8</td>\n    </tr>\n    <tr>\n      <th>2</th>\n      <td>36407</td>\n      <td>iccS</td>\n      <td>Cloud Computing</td>\n      <td>8</td>\n    </tr>\n    <tr>\n      <th>3</th>\n      <td>36408</td>\n      <td>vsgames</td>\n      <td>Data Science</td>\n      <td>4</td>\n    </tr>\n    <tr>\n      <th>4</th>\n      <td>36409</td>\n      <td>complexsystems</td>\n      <td>Internet of Things</td>\n      <td>9</td>\n    </tr>\n    <tr>\n      <th>5</th>\n      <td>36410</td>\n      <td>dsai</td>\n      <td>Blockchain</td>\n      <td>7</td>\n    </tr>\n    <tr>\n      <th>6</th>\n      <td>36436</td>\n      <td>aistats</td>\n      <td>Database</td>\n      <td>0</td>\n    </tr>\n    <tr>\n      <th>7</th>\n      <td>36437</td>\n      <td>nips</td>\n      <td>Cloud Computing</td>\n      <td>8</td>\n    </tr>\n    <tr>\n      <th>8</th>\n      <td>36438</td>\n      <td>colt</td>\n      <td>Cybersecurity</td>\n      <td>5</td>\n    </tr>\n    <tr>\n      <th>9</th>\n      <td>36439</td>\n      <td>pkdd</td>\n      <td>Cybersecurity</td>\n      <td>5</td>\n    </tr>\n    <tr>\n      <th>10</th>\n      <td>36440</td>\n      <td>pakdd</td>\n      <td>Cloud Computing</td>\n      <td>8</td>\n    </tr>\n    <tr>\n      <th>11</th>\n      <td>36441</td>\n      <td>acml</td>\n      <td>Blockchain</td>\n      <td>7</td>\n    </tr>\n    <tr>\n      <th>12</th>\n      <td>36442</td>\n      <td>icml</td>\n      <td>Quantum Computing</td>\n      <td>10</td>\n    </tr>\n    <tr>\n      <th>13</th>\n      <td>36443</td>\n      <td>icgi</td>\n      <td>Cybersecurity</td>\n      <td>5</td>\n    </tr>\n    <tr>\n      <th>14</th>\n      <td>36444</td>\n      <td>wapa</td>\n      <td>Artificial Intelligence</td>\n      <td>1</td>\n    </tr>\n    <tr>\n      <th>15</th>\n      <td>36445</td>\n      <td>wcci</td>\n      <td>Database</td>\n      <td>0</td>\n    </tr>\n    <tr>\n      <th>16</th>\n      <td>36446</td>\n      <td>kdd</td>\n      <td>Quantum Computing</td>\n      <td>10</td>\n    </tr>\n    <tr>\n      <th>17</th>\n      <td>36447</td>\n      <td>mlsb</td>\n      <td>Cloud Computing</td>\n      <td>8</td>\n    </tr>\n    <tr>\n      <th>18</th>\n      <td>36465</td>\n      <td>sigsand</td>\n      <td>Artificial Intelligence</td>\n      <td>1</td>\n    </tr>\n    <tr>\n      <th>19</th>\n      <td>36466</td>\n      <td>wopplot</td>\n      <td>Machine Learning</td>\n      <td>6</td>\n    </tr>\n    <tr>\n      <th>20</th>\n      <td>36467</td>\n      <td>aldt</td>\n      <td>Database</td>\n      <td>0</td>\n    </tr>\n    <tr>\n      <th>21</th>\n      <td>36468</td>\n      <td>ecrime</td>\n      <td>Database</td>\n      <td>0</td>\n    </tr>\n    <tr>\n      <th>22</th>\n      <td>36469</td>\n      <td>asiams</td>\n      <td>Artificial Intelligence</td>\n      <td>1</td>\n    </tr>\n    <tr>\n      <th>23</th>\n      <td>36480</td>\n      <td>ACMicec</td>\n      <td>Artificial Intelligence</td>\n      <td>1</td>\n    </tr>\n  </tbody>\n</table>\n</div>"
     },
     "execution_count": 237,
     "metadata": {},
     "output_type": "execute_result"
    }
   ],
   "source": [
    "#conferences['topic'] = random.choices(list(topics.keys()), k=len(conferences))\n",
    "#conferences['Topic_ID'] = [topics[topic] for topic in conferences['topic']]\n",
    "conferences.head()"
   ],
   "metadata": {
    "collapsed": false,
    "ExecuteTime": {
     "end_time": "2024-05-26T16:12:32.892004Z",
     "start_time": "2024-05-26T16:12:32.867563Z"
    }
   },
   "id": "b2f76e8c09b0e15b",
   "execution_count": 237
  },
  {
   "cell_type": "markdown",
   "source": [
    "### City"
   ],
   "metadata": {
    "collapsed": false
   },
   "id": "5b5b1cc3d2b46a89"
  },
  {
   "cell_type": "code",
   "outputs": [
    {
     "data": {
      "text/plain": "   Edition_ID  year  Conference_ID       city\n0       36394  2011          36405     Lahore\n1       36395  2012          36406     Sydney\n2       36396  2011          36407     Bogotá\n3       36397  2012          36408      Wuhan\n4       36398  2012          36405  Ahmedabad",
      "text/html": "<div>\n<style scoped>\n    .dataframe tbody tr th:only-of-type {\n        vertical-align: middle;\n    }\n\n    .dataframe tbody tr th {\n        vertical-align: top;\n    }\n\n    .dataframe thead th {\n        text-align: right;\n    }\n</style>\n<table border=\"1\" class=\"dataframe\">\n  <thead>\n    <tr style=\"text-align: right;\">\n      <th></th>\n      <th>Edition_ID</th>\n      <th>year</th>\n      <th>Conference_ID</th>\n      <th>city</th>\n    </tr>\n  </thead>\n  <tbody>\n    <tr>\n      <th>0</th>\n      <td>36394</td>\n      <td>2011</td>\n      <td>36405</td>\n      <td>Lahore</td>\n    </tr>\n    <tr>\n      <th>1</th>\n      <td>36395</td>\n      <td>2012</td>\n      <td>36406</td>\n      <td>Sydney</td>\n    </tr>\n    <tr>\n      <th>2</th>\n      <td>36396</td>\n      <td>2011</td>\n      <td>36407</td>\n      <td>Bogotá</td>\n    </tr>\n    <tr>\n      <th>3</th>\n      <td>36397</td>\n      <td>2012</td>\n      <td>36408</td>\n      <td>Wuhan</td>\n    </tr>\n    <tr>\n      <th>4</th>\n      <td>36398</td>\n      <td>2012</td>\n      <td>36405</td>\n      <td>Ahmedabad</td>\n    </tr>\n  </tbody>\n</table>\n</div>"
     },
     "execution_count": 235,
     "metadata": {},
     "output_type": "execute_result"
    }
   ],
   "source": [
    "cities = [\n",
    "    \"Tokyo\", \"New York City\", \"Los Angeles\", \"Paris\", \"London\",\n",
    "    \"Hong Kong\", \"Singapore\", \"Dubai\", \"Shanghai\", \"Beijing\",\n",
    "    \"Mumbai\", \"São Paulo\", \"Moscow\", \"Seoul\", \"Istanbul\",\n",
    "    \"Mexico City\", \"Delhi\", \"Jakarta\", \"Cairo\", \"Lagos\",\n",
    "    \"Buenos Aires\", \"Kolkata\", \"Karachi\", \"Rio de Janeiro\", \"Manila\",\n",
    "    \"Dhaka\", \"Osaka\", \"Bangkok\", \"Lahore\", \"Lima\",\n",
    "    \"Chicago\", \"Tianjin\", \"Kinshasa\", \"Chennai\", \"Bogotá\",\n",
    "    \"Hyderabad\", \"Bangalore\", \"Johannesburg\", \"Ho Chi Minh City\", \"Wuhan\",\n",
    "    \"Ahmedabad\", \"Baghdad\", \"Toronto\", \"Santiago\", \"Kuala Lumpur\",\n",
    "    \"Singapore\", \"San Francisco\", \"Sydney\", \"Amsterdam\", \"Berlin\"\n",
    "]\n",
    "#editions['city'] = random.choices(cities, k=len(editions))\n",
    "editions.head()"
   ],
   "metadata": {
    "collapsed": false,
    "ExecuteTime": {
     "end_time": "2024-05-26T16:11:53.514264Z",
     "start_time": "2024-05-26T16:11:53.483422Z"
    }
   },
   "id": "448d1e8ef424c931",
   "execution_count": 235
  },
  {
   "cell_type": "markdown",
   "source": [
    "## Save all\n",
    "Convert cell below to markdow to save"
   ],
   "metadata": {
    "collapsed": false
   },
   "id": "ce1e57bece33a54b"
  },
  {
   "cell_type": "markdown",
   "source": [
    "authors.to_csv('./data_preprocessed/Author.csv', index=False)\n",
    "authors_affiliated_company.to_csv('./data_preprocessed/AUTHOR_AFFILIATED_COMPANY.csv', index=False)\n",
    "authors_affiliated_university.to_csv('./data_preprocessed/AUTHOR_AFFILIATED_UNIVERSITY.csv', index=False)\n",
    "authored.to_csv('./data_preprocessed/AUTHORED.csv', index=False)\n",
    "cites.to_csv('./data_preprocessed/CITES.csv', index=False)\n",
    "companies.to_csv('./data_preprocessed/Company.csv', index=False)\n",
    "conferences.to_csv('./data_preprocessed/Conference.csv', index=False)\n",
    "editions.to_csv('./data_preprocessed/Edition.csv', index=False)\n",
    "HAS_VOLUME.to_csv('./data_preprocessed/HAS_VOLUME.csv', index=False)\n",
    "IS_ABOUT.to_csv('./data_preprocessed/IS_ABOUT.csv', index=False)\n",
    "journals.to_csv('./data_preprocessed/Journal.csv', index=False)\n",
    "keywords.to_csv('./data_preprocessed/Keyword.csv', index=False)\n",
    "organizes.to_csv('./data_preprocessed/ORGANIZES.csv', index=False)\n",
    "papers.to_csv('./data_preprocessed/Paper.csv', index=False)\n",
    "PRESENTED_AT.to_csv('./data_preprocessed/PRESENTED_AT.csv', index=False)\n",
    "PUBLISHED_IN.to_csv('./data_preprocessed/PUBLISHED_IN.csv', index=False)\n",
    "REVIEWED.to_csv('./data_preprocessed/REVIEWED.csv', index=False)\n",
    "universities.to_csv('./data_preprocessed/University.csv', index=False)\n",
    "volumes.to_csv('./data_preprocessed/Volume.csv', index=False)\n",
    "reviewers.to_csv('./data_preprocessed/Reviewer.csv', index=False)"
   ],
   "metadata": {
    "collapsed": false
   },
   "id": "a94bf75b71860cab"
  },
  {
   "cell_type": "markdown",
   "source": [],
   "metadata": {
    "collapsed": false
   },
   "id": "ffdfc3c690caea54"
  }
 ],
 "metadata": {
  "kernelspec": {
   "display_name": "Python 3",
   "language": "python",
   "name": "python3"
  },
  "language_info": {
   "codemirror_mode": {
    "name": "ipython",
    "version": 2
   },
   "file_extension": ".py",
   "mimetype": "text/x-python",
   "name": "python",
   "nbconvert_exporter": "python",
   "pygments_lexer": "ipython2",
   "version": "2.7.6"
  }
 },
 "nbformat": 4,
 "nbformat_minor": 5
}
